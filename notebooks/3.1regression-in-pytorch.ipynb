{
  "nbformat": 4,
  "nbformat_minor": 0,
  "metadata": {
    "kernelspec": {
      "display_name": "Python 3",
      "language": "python",
      "name": "python3"
    },
    "language_info": {
      "codemirror_mode": {
        "name": "ipython",
        "version": 3
      },
      "file_extension": ".py",
      "mimetype": "text/x-python",
      "name": "python",
      "nbconvert_exporter": "python",
      "pygments_lexer": "ipython3",
      "version": "3.7.6"
    },
    "colab": {
      "name": "regression-in-pytorch.ipynb",
      "provenance": [],
      "include_colab_link": true
    }
  },
  "cells": [
    {
      "cell_type": "markdown",
      "metadata": {
        "id": "view-in-github",
        "colab_type": "text"
      },
      "source": [
        "<a href=\"https://colab.research.google.com/github/ValentynChornomaz/math/blob/main/notebooks/3.1regression-in-pytorch.ipynb\" target=\"_parent\"><img src=\"https://colab.research.google.com/assets/colab-badge.svg\" alt=\"Open In Colab\"/></a>"
      ]
    },
    {
      "cell_type": "markdown",
      "metadata": {
        "id": "oIX4xnrwiFZX"
      },
      "source": [
        "# Regression in PyTorch"
      ]
    },
    {
      "cell_type": "markdown",
      "metadata": {
        "id": "XZJhl8MciFZY"
      },
      "source": [
        "In this notebook, we use the PyTorch **automatic differentiation** library to fit a straight line to data points. Thus, here we use calculus to solve the same regression problem that we used the Moore-Penrose Pseudoinverse to solve in the [*Linear Algebra II* notebook](https://github.com/jonkrohn/ML-foundations/blob/master/notebooks/2-linear-algebra-ii.ipynb)."
      ]
    },
    {
      "cell_type": "code",
      "metadata": {
        "id": "SdljCv4y09g-"
      },
      "source": [
        "import torch\n",
        "import matplotlib.pyplot as plt"
      ],
      "execution_count": 44,
      "outputs": []
    },
    {
      "cell_type": "code",
      "metadata": {
        "id": "RHG-NNVF09g_",
        "outputId": "87a946f8-c14e-4b18-d65e-954c23de4a62",
        "colab": {
          "base_uri": "https://localhost:8080/"
        }
      },
      "source": [
        "x = torch.tensor([0, 1, 2, 3, 4, 5, 6, 7.]) # E.g.: Dosage of drug for treating Alzheimer's disease\n",
        "x"
      ],
      "execution_count": 45,
      "outputs": [
        {
          "output_type": "execute_result",
          "data": {
            "text/plain": [
              "tensor([0., 1., 2., 3., 4., 5., 6., 7.])"
            ]
          },
          "metadata": {},
          "execution_count": 45
        }
      ]
    },
    {
      "cell_type": "markdown",
      "metadata": {
        "id": "kbPWO45yiFZi"
      },
      "source": [
        "The $y$ values were created using the equation of a line $y = mx + b$. This way, we know what the model parameters to be learned are, say, $m = -0.5$ and $b = 2$. Random, normally-distributed noise has been added to simulate sampling error:"
      ]
    },
    {
      "cell_type": "code",
      "metadata": {
        "id": "R6Z0z32d09hA"
      },
      "source": [
        "y = -0.5*x + 2 + torch.normal(mean=torch.zeros(8), std=0.2)"
      ],
      "execution_count": 46,
      "outputs": []
    },
    {
      "cell_type": "markdown",
      "metadata": {
        "id": "jW-52Td409hA"
      },
      "source": [
        "For reproducibility of this demo, here's a fixed example of $y$ values obtained by running the commented-out line above:"
      ]
    },
    {
      "cell_type": "code",
      "metadata": {
        "id": "mntwNZyB09hA",
        "outputId": "3d7254f6-c834-4db2-908e-4d53c205bbd8",
        "colab": {
          "base_uri": "https://localhost:8080/"
        }
      },
      "source": [
        "# y = torch.tensor([1.86, 1.31, .62, .33, .09, -.67, -1.23, -1.37]) # E.g.: Patient's \"forgetfulness score\"\n",
        "y"
      ],
      "execution_count": 47,
      "outputs": [
        {
          "output_type": "execute_result",
          "data": {
            "text/plain": [
              "tensor([ 1.8669,  1.6220,  0.6457,  0.5667, -0.1887, -0.4510, -0.7769, -1.1707])"
            ]
          },
          "metadata": {},
          "execution_count": 47
        }
      ]
    },
    {
      "cell_type": "code",
      "metadata": {
        "id": "poVitT8409hA",
        "outputId": "7a57b2a1-eb59-46e8-8275-3881e5394561",
        "colab": {
          "base_uri": "https://localhost:8080/",
          "height": 472
        }
      },
      "source": [
        "fig, ax = plt.subplots()\n",
        "plt.title(\"Clinical Trial\")\n",
        "plt.xlabel(\"Drug dosage (mL)\")\n",
        "plt.ylabel(\"Forgetfulness\")\n",
        "_ = ax.scatter(x, y)"
      ],
      "execution_count": 48,
      "outputs": [
        {
          "output_type": "display_data",
          "data": {
            "text/plain": [
              "<Figure size 640x480 with 1 Axes>"
            ],
            "image/png": "[encoded data removed]"
          },
          "metadata": {}
        }
      ]
    },
    {
      "cell_type": "markdown",
      "metadata": {
        "id": "6hl2KtAM09hB"
      },
      "source": [
        "Initialize the slope parameter $m$ with a \"random\" value of 0.9..."
      ]
    },
    {
      "cell_type": "markdown",
      "metadata": {
        "id": "hvAa4nXz09hB"
      },
      "source": [
        "(**N.B.**: In this simple demo, we could guess approximately-correct parameter values to start with. Or, we could use an algebraic (e.g., Moore-Penrose pseudoinverse) or statistical (e.g., ordinary-least-squares regression) to solve for the parameters quickly. This tiny machine learning demo with two parameters and eight data points scales, however, to millions of parameters and millions of data points. The other approaches -- guessing, algebra, statistics -- do not come close to scaling in this way.)"
      ]
    },
    {
      "cell_type": "code",
      "metadata": {
        "id": "IXY3nd3r09hB",
        "outputId": "11aa6652-72fe-4334-ffbb-e4c685814334",
        "colab": {
          "base_uri": "https://localhost:8080/"
        }
      },
      "source": [
        "m = torch.tensor([0.9]).requires_grad_()\n",
        "m"
      ],
      "execution_count": 49,
      "outputs": [
        {
          "output_type": "execute_result",
          "data": {
            "text/plain": [
              "tensor([0.9000], requires_grad=True)"
            ]
          },
          "metadata": {},
          "execution_count": 49
        }
      ]
    },
    {
      "cell_type": "markdown",
      "metadata": {
        "id": "loz5ja6Z09hB"
      },
      "source": [
        "...and do the same for the $y$-intercept parameter $b$:"
      ]
    },
    {
      "cell_type": "code",
      "metadata": {
        "id": "ofqXHEGL09hB",
        "outputId": "c48f42a8-d6da-4fda-cb9e-3b680f41a437",
        "colab": {
          "base_uri": "https://localhost:8080/"
        }
      },
      "source": [
        "b = torch.tensor([0.1]).requires_grad_()\n",
        "b"
      ],
      "execution_count": 50,
      "outputs": [
        {
          "output_type": "execute_result",
          "data": {
            "text/plain": [
              "tensor([0.1000], requires_grad=True)"
            ]
          },
          "metadata": {},
          "execution_count": 50
        }
      ]
    },
    {
      "cell_type": "code",
      "metadata": {
        "id": "BJ1-Rioe09hC"
      },
      "source": [
        "def regression(my_x, my_m, my_b):\n",
        "    return my_m*my_x + my_b"
      ],
      "execution_count": 51,
      "outputs": []
    },
    {
      "cell_type": "code",
      "metadata": {
        "id": "UbCaQY1R09hC"
      },
      "source": [
        "def regression_plot(my_x, my_y, my_m, my_b):\n",
        "\n",
        "    fig, ax = plt.subplots()\n",
        "\n",
        "    ax.scatter(my_x, my_y)\n",
        "\n",
        "    x_min, x_max = ax.get_xlim()\n",
        "    y_min = regression(x_min, my_m, my_b).detach().item()\n",
        "    y_max = regression(x_max, my_m, my_b).detach().item()\n",
        "\n",
        "    ax.set_xlim([x_min, x_max])\n",
        "    _ = ax.plot([x_min, x_max], [y_min, y_max])"
      ],
      "execution_count": 52,
      "outputs": []
    },
    {
      "cell_type": "code",
      "metadata": {
        "id": "9auSbE4A09hC",
        "outputId": "57340074-0bcd-49de-b3a4-023b36458a28",
        "colab": {
          "base_uri": "https://localhost:8080/",
          "height": 431
        }
      },
      "source": [
        "regression_plot(x, y, m, b)"
      ],
      "execution_count": 53,
      "outputs": [
        {
          "output_type": "display_data",
          "data": {
            "text/plain": [
              "<Figure size 640x480 with 1 Axes>"
            ],
            "image/png": "[encoded data removed]"
          },
          "metadata": {}
        }
      ]
    },
    {
      "cell_type": "markdown",
      "metadata": {
        "id": "tALo3vf_09hC"
      },
      "source": [
        "**Return to slides here if following *Calculus I* class.**"
      ]
    },
    {
      "cell_type": "markdown",
      "metadata": {
        "id": "Ws53tPJF09hC"
      },
      "source": [
        "### Machine Learning\n",
        "In four easy steps :)"
      ]
    },
    {
      "cell_type": "markdown",
      "metadata": {
        "id": "3egph_ZU09hC"
      },
      "source": [
        "**Step 1**: Forward pass"
      ]
    },
    {
      "cell_type": "code",
      "metadata": {
        "id": "901_nf3f09hC",
        "outputId": "8cb612b2-574c-4fd7-f5d8-b699c79ac184",
        "colab": {
          "base_uri": "https://localhost:8080/"
        }
      },
      "source": [
        "yhat = regression(x, m, b)\n",
        "yhat"
      ],
      "execution_count": 54,
      "outputs": [
        {
          "output_type": "execute_result",
          "data": {
            "text/plain": [
              "tensor([0.1000, 1.0000, 1.9000, 2.8000, 3.7000, 4.6000, 5.5000, 6.4000],\n",
              "       grad_fn=<AddBackward0>)"
            ]
          },
          "metadata": {},
          "execution_count": 54
        }
      ]
    },
    {
      "cell_type": "markdown",
      "metadata": {
        "id": "AAV5AN8Y09hD"
      },
      "source": [
        "**Step 2**: Compare $\\hat{y}$ with true $y$ to calculate cost $C$"
      ]
    },
    {
      "cell_type": "markdown",
      "metadata": {
        "id": "VIUzVfyIiFZ4"
      },
      "source": [
        "There is a PyTorch `MSELoss` method, but let's define it outselves to see how it works. MSE cost is defined by: $$C = \\frac{1}{n} \\sum_{i=1}^n (\\hat{y_i}-y_i)^2 $$"
      ]
    },
    {
      "cell_type": "code",
      "metadata": {
        "id": "sRAbg8lQ09hD"
      },
      "source": [
        "def mse(my_yhat, my_y):\n",
        "    sigma = torch.sum((my_yhat - my_y)**2)\n",
        "    return sigma/len(my_y)"
      ],
      "execution_count": 55,
      "outputs": []
    },
    {
      "cell_type": "code",
      "metadata": {
        "id": "V6I7Cmi409hD",
        "outputId": "ddb1d766-3b75-410a-8c73-69813edf328f",
        "colab": {
          "base_uri": "https://localhost:8080/"
        }
      },
      "source": [
        "C = mse(yhat, y)\n",
        "C"
      ],
      "execution_count": 56,
      "outputs": [
        {
          "output_type": "execute_result",
          "data": {
            "text/plain": [
              "tensor(18.4275, grad_fn=<DivBackward0>)"
            ]
          },
          "metadata": {},
          "execution_count": 56
        }
      ]
    },
    {
      "cell_type": "markdown",
      "metadata": {
        "id": "avZjfPNQ09hD"
      },
      "source": [
        "**Step 3**: Use autodiff to calculate gradient of $C$ w.r.t. parameters"
      ]
    },
    {
      "cell_type": "code",
      "metadata": {
        "id": "GmouXexF09hE"
      },
      "source": [
        "C.backward()"
      ],
      "execution_count": 57,
      "outputs": []
    },
    {
      "cell_type": "code",
      "metadata": {
        "id": "cOYw5LOV09hE",
        "outputId": "cb409ab1-2705-457e-baf1-177957628cf4",
        "colab": {
          "base_uri": "https://localhost:8080/"
        }
      },
      "source": [
        "m.grad"
      ],
      "execution_count": 58,
      "outputs": [
        {
          "output_type": "execute_result",
          "data": {
            "text/plain": [
              "tensor([35.0132])"
            ]
          },
          "metadata": {},
          "execution_count": 58
        }
      ]
    },
    {
      "cell_type": "code",
      "metadata": {
        "id": "vyvLxxYy09hE",
        "outputId": "07b31686-cdb5-480a-f2c0-5ad209d54d4a",
        "colab": {
          "base_uri": "https://localhost:8080/"
        }
      },
      "source": [
        "b.grad"
      ],
      "execution_count": 59,
      "outputs": [
        {
          "output_type": "execute_result",
          "data": {
            "text/plain": [
              "tensor([5.9715])"
            ]
          },
          "metadata": {},
          "execution_count": 59
        }
      ]
    },
    {
      "cell_type": "markdown",
      "metadata": {
        "id": "iWn_fH0t09hE"
      },
      "source": [
        "**Step 4**: Gradient descent"
      ]
    },
    {
      "cell_type": "code",
      "metadata": {
        "id": "-H18htep09hE"
      },
      "source": [
        "optimizer = torch.optim.SGD([m, b], lr=0.01)"
      ],
      "execution_count": 60,
      "outputs": []
    },
    {
      "cell_type": "code",
      "metadata": {
        "id": "l6Ca-YTp09hE"
      },
      "source": [
        "optimizer.step()"
      ],
      "execution_count": 61,
      "outputs": []
    },
    {
      "cell_type": "markdown",
      "metadata": {
        "id": "bfMF3B2709hE"
      },
      "source": [
        "Confirm parameters have been adjusted sensibly:"
      ]
    },
    {
      "cell_type": "code",
      "metadata": {
        "id": "GOr74kGm09hF",
        "outputId": "390f30bf-2ad6-493d-a885-7d9a85c2a395",
        "colab": {
          "base_uri": "https://localhost:8080/"
        }
      },
      "source": [
        "m"
      ],
      "execution_count": 62,
      "outputs": [
        {
          "output_type": "execute_result",
          "data": {
            "text/plain": [
              "tensor([0.5499], requires_grad=True)"
            ]
          },
          "metadata": {},
          "execution_count": 62
        }
      ]
    },
    {
      "cell_type": "code",
      "metadata": {
        "id": "Ht7U_2_G09hF",
        "outputId": "bafcf74a-4ff1-4964-93e0-903771c6e847",
        "colab": {
          "base_uri": "https://localhost:8080/"
        }
      },
      "source": [
        "b"
      ],
      "execution_count": 63,
      "outputs": [
        {
          "output_type": "execute_result",
          "data": {
            "text/plain": [
              "tensor([0.0403], requires_grad=True)"
            ]
          },
          "metadata": {},
          "execution_count": 63
        }
      ]
    },
    {
      "cell_type": "code",
      "metadata": {
        "id": "qQIUjHPY09hF",
        "outputId": "ce93b7fe-a3d5-4138-d0a9-e21d743d3601",
        "colab": {
          "base_uri": "https://localhost:8080/",
          "height": 430
        }
      },
      "source": [
        "regression_plot(x, y, m, b)"
      ],
      "execution_count": 64,
      "outputs": [
        {
          "output_type": "display_data",
          "data": {
            "text/plain": [
              "<Figure size 640x480 with 1 Axes>"
            ],
            "image/png": "[encoded data removed]"
          },
          "metadata": {}
        }
      ]
    },
    {
      "cell_type": "markdown",
      "metadata": {
        "id": "mwo0UsoA09hF"
      },
      "source": [
        "We can repeat steps 1 and 2 to confirm cost has decreased:"
      ]
    },
    {
      "cell_type": "code",
      "metadata": {
        "id": "76e1mVu209hF",
        "outputId": "79bffcae-9e2b-4c08-eff2-e38e67d12355",
        "colab": {
          "base_uri": "https://localhost:8080/"
        }
      },
      "source": [
        "C = mse(regression(x, m, b), y)\n",
        "C"
      ],
      "execution_count": 65,
      "outputs": [
        {
          "output_type": "execute_result",
          "data": {
            "text/plain": [
              "tensor(8.1070, grad_fn=<DivBackward0>)"
            ]
          },
          "metadata": {},
          "execution_count": 65
        }
      ]
    },
    {
      "cell_type": "markdown",
      "metadata": {
        "id": "r6dAqwRw09hF"
      },
      "source": [
        "Put the 4 steps in a loop to iteratively minimize cost toward zero:"
      ]
    },
    {
      "cell_type": "code",
      "metadata": {
        "id": "wejSZX2q09hF",
        "outputId": "40d2ca26-aead-46d7-cf75-d5c0795802c6",
        "colab": {
          "base_uri": "https://localhost:8080/"
        },
        "collapsed": true
      },
      "source": [
        "epochs = 1000\n",
        "for epoch in range(epochs):\n",
        "\n",
        "    optimizer.zero_grad() # Reset gradients to zero; else they accumulate\n",
        "\n",
        "    yhat = regression(x, m, b) # Step 1\n",
        "    C = mse(yhat, y) # Step 2\n",
        "\n",
        "    C.backward() # Step 3\n",
        "    optimizer.step() # Step 4\n",
        "\n",
        "    print('Epoch {}, cost {}, m grad {}, b grad {}'.format(epoch, '%.3g' % C.item(), '%.3g' % m.grad.item(), '%.3g' % b.grad.item()))"
      ],
      "execution_count": 66,
      "outputs": [
        {
          "output_type": "stream",
          "name": "stdout",
          "text": [
            "Epoch 0, cost 8.11, m grad 22.3, b grad 3.4\n",
            "Epoch 1, cost 3.93, m grad 14.3, b grad 1.77\n",
            "Epoch 2, cost 2.23, m grad 9.16, b grad 0.734\n",
            "Epoch 3, cost 1.54, m grad 5.9, b grad 0.0781\n",
            "Epoch 4, cost 1.25, m grad 3.83, b grad -0.337\n",
            "Epoch 5, cost 1.13, m grad 2.51, b grad -0.598\n",
            "Epoch 6, cost 1.07, m grad 1.68, b grad -0.762\n",
            "Epoch 7, cost 1.04, m grad 1.14, b grad -0.864\n",
            "Epoch 8, cost 1.02, m grad 0.803, b grad -0.927\n",
            "Epoch 9, cost 1.01, m grad 0.587, b grad -0.965\n",
            "Epoch 10, cost 0.996, m grad 0.449, b grad -0.986\n",
            "Epoch 11, cost 0.985, m grad 0.361, b grad -0.998\n",
            "Epoch 12, cost 0.973, m grad 0.304, b grad -1\n",
            "Epoch 13, cost 0.962, m grad 0.268, b grad -1\n",
            "Epoch 14, cost 0.952, m grad 0.245, b grad -1\n",
            "Epoch 15, cost 0.941, m grad 0.229, b grad -1\n",
            "Epoch 16, cost 0.931, m grad 0.219, b grad -0.996\n",
            "Epoch 17, cost 0.92, m grad 0.212, b grad -0.992\n",
            "Epoch 18, cost 0.91, m grad 0.207, b grad -0.987\n",
            "Epoch 19, cost 0.9, m grad 0.204, b grad -0.982\n",
            "Epoch 20, cost 0.89, m grad 0.201, b grad -0.976\n",
            "Epoch 21, cost 0.88, m grad 0.199, b grad -0.971\n",
            "Epoch 22, cost 0.87, m grad 0.197, b grad -0.965\n",
            "Epoch 23, cost 0.86, m grad 0.196, b grad -0.96\n",
            "Epoch 24, cost 0.851, m grad 0.194, b grad -0.954\n",
            "Epoch 25, cost 0.841, m grad 0.193, b grad -0.949\n",
            "Epoch 26, cost 0.832, m grad 0.192, b grad -0.943\n",
            "Epoch 27, cost 0.823, m grad 0.191, b grad -0.938\n",
            "Epoch 28, cost 0.814, m grad 0.19, b grad -0.933\n",
            "Epoch 29, cost 0.805, m grad 0.189, b grad -0.927\n",
            "Epoch 30, cost 0.796, m grad 0.187, b grad -0.922\n",
            "Epoch 31, cost 0.787, m grad 0.186, b grad -0.917\n",
            "Epoch 32, cost 0.778, m grad 0.185, b grad -0.911\n",
            "Epoch 33, cost 0.77, m grad 0.184, b grad -0.906\n",
            "Epoch 34, cost 0.761, m grad 0.183, b grad -0.901\n",
            "Epoch 35, cost 0.753, m grad 0.182, b grad -0.896\n",
            "Epoch 36, cost 0.744, m grad 0.181, b grad -0.89\n",
            "Epoch 37, cost 0.736, m grad 0.18, b grad -0.885\n",
            "Epoch 38, cost 0.728, m grad 0.179, b grad -0.88\n",
            "Epoch 39, cost 0.72, m grad 0.178, b grad -0.875\n",
            "Epoch 40, cost 0.712, m grad 0.177, b grad -0.87\n",
            "Epoch 41, cost 0.704, m grad 0.176, b grad -0.865\n",
            "Epoch 42, cost 0.696, m grad 0.175, b grad -0.86\n",
            "Epoch 43, cost 0.689, m grad 0.174, b grad -0.855\n",
            "Epoch 44, cost 0.681, m grad 0.173, b grad -0.85\n",
            "Epoch 45, cost 0.673, m grad 0.172, b grad -0.845\n",
            "Epoch 46, cost 0.666, m grad 0.171, b grad -0.84\n",
            "Epoch 47, cost 0.659, m grad 0.17, b grad -0.836\n",
            "Epoch 48, cost 0.651, m grad 0.169, b grad -0.831\n",
            "Epoch 49, cost 0.644, m grad 0.168, b grad -0.826\n",
            "Epoch 50, cost 0.637, m grad 0.167, b grad -0.821\n",
            "Epoch 51, cost 0.63, m grad 0.166, b grad -0.816\n",
            "Epoch 52, cost 0.623, m grad 0.165, b grad -0.812\n",
            "Epoch 53, cost 0.616, m grad 0.164, b grad -0.807\n",
            "Epoch 54, cost 0.61, m grad 0.163, b grad -0.802\n",
            "Epoch 55, cost 0.603, m grad 0.162, b grad -0.798\n",
            "Epoch 56, cost 0.596, m grad 0.161, b grad -0.793\n",
            "Epoch 57, cost 0.59, m grad 0.16, b grad -0.789\n",
            "Epoch 58, cost 0.583, m grad 0.159, b grad -0.784\n",
            "Epoch 59, cost 0.577, m grad 0.159, b grad -0.78\n",
            "Epoch 60, cost 0.571, m grad 0.158, b grad -0.775\n",
            "Epoch 61, cost 0.564, m grad 0.157, b grad -0.771\n",
            "Epoch 62, cost 0.558, m grad 0.156, b grad -0.766\n",
            "Epoch 63, cost 0.552, m grad 0.155, b grad -0.762\n",
            "Epoch 64, cost 0.546, m grad 0.154, b grad -0.757\n",
            "Epoch 65, cost 0.54, m grad 0.153, b grad -0.753\n",
            "Epoch 66, cost 0.534, m grad 0.152, b grad -0.749\n",
            "Epoch 67, cost 0.529, m grad 0.151, b grad -0.744\n",
            "Epoch 68, cost 0.523, m grad 0.15, b grad -0.74\n",
            "Epoch 69, cost 0.517, m grad 0.15, b grad -0.736\n",
            "Epoch 70, cost 0.511, m grad 0.149, b grad -0.732\n",
            "Epoch 71, cost 0.506, m grad 0.148, b grad -0.727\n",
            "Epoch 72, cost 0.5, m grad 0.147, b grad -0.723\n",
            "Epoch 73, cost 0.495, m grad 0.146, b grad -0.719\n",
            "Epoch 74, cost 0.49, m grad 0.145, b grad -0.715\n",
            "Epoch 75, cost 0.484, m grad 0.145, b grad -0.711\n",
            "Epoch 76, cost 0.479, m grad 0.144, b grad -0.707\n",
            "Epoch 77, cost 0.474, m grad 0.143, b grad -0.702\n",
            "Epoch 78, cost 0.469, m grad 0.142, b grad -0.698\n",
            "Epoch 79, cost 0.464, m grad 0.141, b grad -0.694\n",
            "Epoch 80, cost 0.459, m grad 0.14, b grad -0.69\n",
            "Epoch 81, cost 0.454, m grad 0.14, b grad -0.686\n",
            "Epoch 82, cost 0.449, m grad 0.139, b grad -0.682\n",
            "Epoch 83, cost 0.444, m grad 0.138, b grad -0.679\n",
            "Epoch 84, cost 0.439, m grad 0.137, b grad -0.675\n",
            "Epoch 85, cost 0.435, m grad 0.136, b grad -0.671\n",
            "Epoch 86, cost 0.43, m grad 0.136, b grad -0.667\n",
            "Epoch 87, cost 0.425, m grad 0.135, b grad -0.663\n",
            "Epoch 88, cost 0.421, m grad 0.134, b grad -0.659\n",
            "Epoch 89, cost 0.416, m grad 0.133, b grad -0.655\n",
            "Epoch 90, cost 0.412, m grad 0.133, b grad -0.652\n",
            "Epoch 91, cost 0.407, m grad 0.132, b grad -0.648\n",
            "Epoch 92, cost 0.403, m grad 0.131, b grad -0.644\n",
            "Epoch 93, cost 0.399, m grad 0.13, b grad -0.64\n",
            "Epoch 94, cost 0.394, m grad 0.129, b grad -0.637\n",
            "Epoch 95, cost 0.39, m grad 0.129, b grad -0.633\n",
            "Epoch 96, cost 0.386, m grad 0.128, b grad -0.629\n",
            "Epoch 97, cost 0.382, m grad 0.127, b grad -0.626\n",
            "Epoch 98, cost 0.378, m grad 0.127, b grad -0.622\n",
            "Epoch 99, cost 0.374, m grad 0.126, b grad -0.619\n",
            "Epoch 100, cost 0.37, m grad 0.125, b grad -0.615\n",
            "Epoch 101, cost 0.366, m grad 0.124, b grad -0.611\n",
            "Epoch 102, cost 0.362, m grad 0.124, b grad -0.608\n",
            "Epoch 103, cost 0.358, m grad 0.123, b grad -0.604\n",
            "Epoch 104, cost 0.354, m grad 0.122, b grad -0.601\n",
            "Epoch 105, cost 0.351, m grad 0.121, b grad -0.597\n",
            "Epoch 106, cost 0.347, m grad 0.121, b grad -0.594\n",
            "Epoch 107, cost 0.343, m grad 0.12, b grad -0.591\n",
            "Epoch 108, cost 0.34, m grad 0.119, b grad -0.587\n",
            "Epoch 109, cost 0.336, m grad 0.119, b grad -0.584\n",
            "Epoch 110, cost 0.333, m grad 0.118, b grad -0.58\n",
            "Epoch 111, cost 0.329, m grad 0.117, b grad -0.577\n",
            "Epoch 112, cost 0.326, m grad 0.117, b grad -0.574\n",
            "Epoch 113, cost 0.322, m grad 0.116, b grad -0.57\n",
            "Epoch 114, cost 0.319, m grad 0.115, b grad -0.567\n",
            "Epoch 115, cost 0.315, m grad 0.115, b grad -0.564\n",
            "Epoch 116, cost 0.312, m grad 0.114, b grad -0.561\n",
            "Epoch 117, cost 0.309, m grad 0.113, b grad -0.557\n",
            "Epoch 118, cost 0.306, m grad 0.113, b grad -0.554\n",
            "Epoch 119, cost 0.302, m grad 0.112, b grad -0.551\n",
            "Epoch 120, cost 0.299, m grad 0.111, b grad -0.548\n",
            "Epoch 121, cost 0.296, m grad 0.111, b grad -0.545\n",
            "Epoch 122, cost 0.293, m grad 0.11, b grad -0.542\n",
            "Epoch 123, cost 0.29, m grad 0.109, b grad -0.538\n",
            "Epoch 124, cost 0.287, m grad 0.109, b grad -0.535\n",
            "Epoch 125, cost 0.284, m grad 0.108, b grad -0.532\n",
            "Epoch 126, cost 0.281, m grad 0.108, b grad -0.529\n",
            "Epoch 127, cost 0.278, m grad 0.107, b grad -0.526\n",
            "Epoch 128, cost 0.275, m grad 0.106, b grad -0.523\n",
            "Epoch 129, cost 0.272, m grad 0.106, b grad -0.52\n",
            "Epoch 130, cost 0.27, m grad 0.105, b grad -0.517\n",
            "Epoch 131, cost 0.267, m grad 0.105, b grad -0.514\n",
            "Epoch 132, cost 0.264, m grad 0.104, b grad -0.511\n",
            "Epoch 133, cost 0.261, m grad 0.103, b grad -0.508\n",
            "Epoch 134, cost 0.259, m grad 0.103, b grad -0.505\n",
            "Epoch 135, cost 0.256, m grad 0.102, b grad -0.502\n",
            "Epoch 136, cost 0.253, m grad 0.102, b grad -0.499\n",
            "Epoch 137, cost 0.251, m grad 0.101, b grad -0.497\n",
            "Epoch 138, cost 0.248, m grad 0.1, b grad -0.494\n",
            "Epoch 139, cost 0.246, m grad 0.0998, b grad -0.491\n",
            "Epoch 140, cost 0.243, m grad 0.0992, b grad -0.488\n",
            "Epoch 141, cost 0.241, m grad 0.0987, b grad -0.485\n",
            "Epoch 142, cost 0.238, m grad 0.0981, b grad -0.482\n",
            "Epoch 143, cost 0.236, m grad 0.0975, b grad -0.48\n",
            "Epoch 144, cost 0.234, m grad 0.097, b grad -0.477\n",
            "Epoch 145, cost 0.231, m grad 0.0964, b grad -0.474\n",
            "Epoch 146, cost 0.229, m grad 0.0959, b grad -0.471\n",
            "Epoch 147, cost 0.227, m grad 0.0953, b grad -0.469\n",
            "Epoch 148, cost 0.224, m grad 0.0948, b grad -0.466\n",
            "Epoch 149, cost 0.222, m grad 0.0942, b grad -0.463\n",
            "Epoch 150, cost 0.22, m grad 0.0937, b grad -0.461\n",
            "Epoch 151, cost 0.218, m grad 0.0931, b grad -0.458\n",
            "Epoch 152, cost 0.215, m grad 0.0926, b grad -0.455\n",
            "Epoch 153, cost 0.213, m grad 0.0921, b grad -0.453\n",
            "Epoch 154, cost 0.211, m grad 0.0915, b grad -0.45\n",
            "Epoch 155, cost 0.209, m grad 0.091, b grad -0.447\n",
            "Epoch 156, cost 0.207, m grad 0.0905, b grad -0.445\n",
            "Epoch 157, cost 0.205, m grad 0.0899, b grad -0.442\n",
            "Epoch 158, cost 0.203, m grad 0.0894, b grad -0.44\n",
            "Epoch 159, cost 0.201, m grad 0.0889, b grad -0.437\n",
            "Epoch 160, cost 0.199, m grad 0.0884, b grad -0.435\n",
            "Epoch 161, cost 0.197, m grad 0.0879, b grad -0.432\n",
            "Epoch 162, cost 0.195, m grad 0.0874, b grad -0.43\n",
            "Epoch 163, cost 0.193, m grad 0.0869, b grad -0.427\n",
            "Epoch 164, cost 0.191, m grad 0.0864, b grad -0.425\n",
            "Epoch 165, cost 0.189, m grad 0.0859, b grad -0.422\n",
            "Epoch 166, cost 0.187, m grad 0.0854, b grad -0.42\n",
            "Epoch 167, cost 0.186, m grad 0.0849, b grad -0.417\n",
            "Epoch 168, cost 0.184, m grad 0.0844, b grad -0.415\n",
            "Epoch 169, cost 0.182, m grad 0.0839, b grad -0.413\n",
            "Epoch 170, cost 0.18, m grad 0.0834, b grad -0.41\n",
            "Epoch 171, cost 0.179, m grad 0.083, b grad -0.408\n",
            "Epoch 172, cost 0.177, m grad 0.0825, b grad -0.406\n",
            "Epoch 173, cost 0.175, m grad 0.082, b grad -0.403\n",
            "Epoch 174, cost 0.173, m grad 0.0815, b grad -0.401\n",
            "Epoch 175, cost 0.172, m grad 0.0811, b grad -0.399\n",
            "Epoch 176, cost 0.17, m grad 0.0806, b grad -0.396\n",
            "Epoch 177, cost 0.168, m grad 0.0801, b grad -0.394\n",
            "Epoch 178, cost 0.167, m grad 0.0797, b grad -0.392\n",
            "Epoch 179, cost 0.165, m grad 0.0792, b grad -0.389\n",
            "Epoch 180, cost 0.164, m grad 0.0787, b grad -0.387\n",
            "Epoch 181, cost 0.162, m grad 0.0783, b grad -0.385\n",
            "Epoch 182, cost 0.161, m grad 0.0778, b grad -0.383\n",
            "Epoch 183, cost 0.159, m grad 0.0774, b grad -0.381\n",
            "Epoch 184, cost 0.158, m grad 0.0769, b grad -0.378\n",
            "Epoch 185, cost 0.156, m grad 0.0765, b grad -0.376\n",
            "Epoch 186, cost 0.155, m grad 0.0761, b grad -0.374\n",
            "Epoch 187, cost 0.153, m grad 0.0756, b grad -0.372\n",
            "Epoch 188, cost 0.152, m grad 0.0752, b grad -0.37\n",
            "Epoch 189, cost 0.15, m grad 0.0748, b grad -0.368\n",
            "Epoch 190, cost 0.149, m grad 0.0743, b grad -0.365\n",
            "Epoch 191, cost 0.147, m grad 0.0739, b grad -0.363\n",
            "Epoch 192, cost 0.146, m grad 0.0735, b grad -0.361\n",
            "Epoch 193, cost 0.145, m grad 0.073, b grad -0.359\n",
            "Epoch 194, cost 0.143, m grad 0.0726, b grad -0.357\n",
            "Epoch 195, cost 0.142, m grad 0.0722, b grad -0.355\n",
            "Epoch 196, cost 0.141, m grad 0.0718, b grad -0.353\n",
            "Epoch 197, cost 0.139, m grad 0.0714, b grad -0.351\n",
            "Epoch 198, cost 0.138, m grad 0.071, b grad -0.349\n",
            "Epoch 199, cost 0.137, m grad 0.0706, b grad -0.347\n",
            "Epoch 200, cost 0.136, m grad 0.0701, b grad -0.345\n",
            "Epoch 201, cost 0.134, m grad 0.0697, b grad -0.343\n",
            "Epoch 202, cost 0.133, m grad 0.0693, b grad -0.341\n",
            "Epoch 203, cost 0.132, m grad 0.0689, b grad -0.339\n",
            "Epoch 204, cost 0.131, m grad 0.0685, b grad -0.337\n",
            "Epoch 205, cost 0.13, m grad 0.0681, b grad -0.335\n",
            "Epoch 206, cost 0.128, m grad 0.0678, b grad -0.333\n",
            "Epoch 207, cost 0.127, m grad 0.0674, b grad -0.331\n",
            "Epoch 208, cost 0.126, m grad 0.067, b grad -0.329\n",
            "Epoch 209, cost 0.125, m grad 0.0666, b grad -0.327\n",
            "Epoch 210, cost 0.124, m grad 0.0662, b grad -0.326\n",
            "Epoch 211, cost 0.123, m grad 0.0658, b grad -0.324\n",
            "Epoch 212, cost 0.122, m grad 0.0654, b grad -0.322\n",
            "Epoch 213, cost 0.121, m grad 0.0651, b grad -0.32\n",
            "Epoch 214, cost 0.12, m grad 0.0647, b grad -0.318\n",
            "Epoch 215, cost 0.119, m grad 0.0643, b grad -0.316\n",
            "Epoch 216, cost 0.118, m grad 0.0639, b grad -0.314\n",
            "Epoch 217, cost 0.117, m grad 0.0636, b grad -0.313\n",
            "Epoch 218, cost 0.116, m grad 0.0632, b grad -0.311\n",
            "Epoch 219, cost 0.114, m grad 0.0628, b grad -0.309\n",
            "Epoch 220, cost 0.114, m grad 0.0625, b grad -0.307\n",
            "Epoch 221, cost 0.113, m grad 0.0621, b grad -0.306\n",
            "Epoch 222, cost 0.112, m grad 0.0618, b grad -0.304\n",
            "Epoch 223, cost 0.111, m grad 0.0614, b grad -0.302\n",
            "Epoch 224, cost 0.11, m grad 0.0611, b grad -0.3\n",
            "Epoch 225, cost 0.109, m grad 0.0607, b grad -0.299\n",
            "Epoch 226, cost 0.108, m grad 0.0604, b grad -0.297\n",
            "Epoch 227, cost 0.107, m grad 0.06, b grad -0.295\n",
            "Epoch 228, cost 0.106, m grad 0.0597, b grad -0.293\n",
            "Epoch 229, cost 0.105, m grad 0.0593, b grad -0.292\n",
            "Epoch 230, cost 0.104, m grad 0.059, b grad -0.29\n",
            "Epoch 231, cost 0.103, m grad 0.0586, b grad -0.288\n",
            "Epoch 232, cost 0.102, m grad 0.0583, b grad -0.287\n",
            "Epoch 233, cost 0.102, m grad 0.058, b grad -0.285\n",
            "Epoch 234, cost 0.101, m grad 0.0576, b grad -0.283\n",
            "Epoch 235, cost 0.0999, m grad 0.0573, b grad -0.282\n",
            "Epoch 236, cost 0.0991, m grad 0.057, b grad -0.28\n",
            "Epoch 237, cost 0.0983, m grad 0.0566, b grad -0.279\n",
            "Epoch 238, cost 0.0975, m grad 0.0563, b grad -0.277\n",
            "Epoch 239, cost 0.0967, m grad 0.056, b grad -0.275\n",
            "Epoch 240, cost 0.0959, m grad 0.0557, b grad -0.274\n",
            "Epoch 241, cost 0.0951, m grad 0.0553, b grad -0.272\n",
            "Epoch 242, cost 0.0944, m grad 0.055, b grad -0.271\n",
            "Epoch 243, cost 0.0936, m grad 0.0547, b grad -0.269\n",
            "Epoch 244, cost 0.0928, m grad 0.0544, b grad -0.267\n",
            "Epoch 245, cost 0.0921, m grad 0.0541, b grad -0.266\n",
            "Epoch 246, cost 0.0914, m grad 0.0538, b grad -0.264\n",
            "Epoch 247, cost 0.0906, m grad 0.0535, b grad -0.263\n",
            "Epoch 248, cost 0.0899, m grad 0.0531, b grad -0.261\n",
            "Epoch 249, cost 0.0892, m grad 0.0528, b grad -0.26\n",
            "Epoch 250, cost 0.0885, m grad 0.0525, b grad -0.258\n",
            "Epoch 251, cost 0.0878, m grad 0.0522, b grad -0.257\n",
            "Epoch 252, cost 0.0871, m grad 0.0519, b grad -0.255\n",
            "Epoch 253, cost 0.0865, m grad 0.0516, b grad -0.254\n",
            "Epoch 254, cost 0.0858, m grad 0.0513, b grad -0.252\n",
            "Epoch 255, cost 0.0851, m grad 0.051, b grad -0.251\n",
            "Epoch 256, cost 0.0845, m grad 0.0507, b grad -0.25\n",
            "Epoch 257, cost 0.0838, m grad 0.0505, b grad -0.248\n",
            "Epoch 258, cost 0.0832, m grad 0.0502, b grad -0.247\n",
            "Epoch 259, cost 0.0826, m grad 0.0499, b grad -0.245\n",
            "Epoch 260, cost 0.0819, m grad 0.0496, b grad -0.244\n",
            "Epoch 261, cost 0.0813, m grad 0.0493, b grad -0.242\n",
            "Epoch 262, cost 0.0807, m grad 0.049, b grad -0.241\n",
            "Epoch 263, cost 0.0801, m grad 0.0487, b grad -0.24\n",
            "Epoch 264, cost 0.0795, m grad 0.0484, b grad -0.238\n",
            "Epoch 265, cost 0.0789, m grad 0.0482, b grad -0.237\n",
            "Epoch 266, cost 0.0783, m grad 0.0479, b grad -0.236\n",
            "Epoch 267, cost 0.0778, m grad 0.0476, b grad -0.234\n",
            "Epoch 268, cost 0.0772, m grad 0.0473, b grad -0.233\n",
            "Epoch 269, cost 0.0766, m grad 0.0471, b grad -0.231\n",
            "Epoch 270, cost 0.0761, m grad 0.0468, b grad -0.23\n",
            "Epoch 271, cost 0.0755, m grad 0.0465, b grad -0.229\n",
            "Epoch 272, cost 0.075, m grad 0.0463, b grad -0.227\n",
            "Epoch 273, cost 0.0744, m grad 0.046, b grad -0.226\n",
            "Epoch 274, cost 0.0739, m grad 0.0457, b grad -0.225\n",
            "Epoch 275, cost 0.0734, m grad 0.0455, b grad -0.224\n",
            "Epoch 276, cost 0.0729, m grad 0.0452, b grad -0.222\n",
            "Epoch 277, cost 0.0723, m grad 0.0449, b grad -0.221\n",
            "Epoch 278, cost 0.0718, m grad 0.0447, b grad -0.22\n",
            "Epoch 279, cost 0.0713, m grad 0.0444, b grad -0.218\n",
            "Epoch 280, cost 0.0708, m grad 0.0442, b grad -0.217\n",
            "Epoch 281, cost 0.0703, m grad 0.0439, b grad -0.216\n",
            "Epoch 282, cost 0.0699, m grad 0.0437, b grad -0.215\n",
            "Epoch 283, cost 0.0694, m grad 0.0434, b grad -0.213\n",
            "Epoch 284, cost 0.0689, m grad 0.0432, b grad -0.212\n",
            "Epoch 285, cost 0.0684, m grad 0.0429, b grad -0.211\n",
            "Epoch 286, cost 0.068, m grad 0.0427, b grad -0.21\n",
            "Epoch 287, cost 0.0675, m grad 0.0424, b grad -0.209\n",
            "Epoch 288, cost 0.0671, m grad 0.0422, b grad -0.207\n",
            "Epoch 289, cost 0.0666, m grad 0.0419, b grad -0.206\n",
            "Epoch 290, cost 0.0662, m grad 0.0417, b grad -0.205\n",
            "Epoch 291, cost 0.0657, m grad 0.0414, b grad -0.204\n",
            "Epoch 292, cost 0.0653, m grad 0.0412, b grad -0.203\n",
            "Epoch 293, cost 0.0649, m grad 0.041, b grad -0.201\n",
            "Epoch 294, cost 0.0645, m grad 0.0407, b grad -0.2\n",
            "Epoch 295, cost 0.0641, m grad 0.0405, b grad -0.199\n",
            "Epoch 296, cost 0.0636, m grad 0.0403, b grad -0.198\n",
            "Epoch 297, cost 0.0632, m grad 0.04, b grad -0.197\n",
            "Epoch 298, cost 0.0628, m grad 0.0398, b grad -0.196\n",
            "Epoch 299, cost 0.0624, m grad 0.0396, b grad -0.195\n",
            "Epoch 300, cost 0.062, m grad 0.0393, b grad -0.193\n",
            "Epoch 301, cost 0.0617, m grad 0.0391, b grad -0.192\n",
            "Epoch 302, cost 0.0613, m grad 0.0389, b grad -0.191\n",
            "Epoch 303, cost 0.0609, m grad 0.0387, b grad -0.19\n",
            "Epoch 304, cost 0.0605, m grad 0.0384, b grad -0.189\n",
            "Epoch 305, cost 0.0601, m grad 0.0382, b grad -0.188\n",
            "Epoch 306, cost 0.0598, m grad 0.038, b grad -0.187\n",
            "Epoch 307, cost 0.0594, m grad 0.0378, b grad -0.186\n",
            "Epoch 308, cost 0.0591, m grad 0.0376, b grad -0.185\n",
            "Epoch 309, cost 0.0587, m grad 0.0374, b grad -0.184\n",
            "Epoch 310, cost 0.0583, m grad 0.0371, b grad -0.183\n",
            "Epoch 311, cost 0.058, m grad 0.0369, b grad -0.182\n",
            "Epoch 312, cost 0.0577, m grad 0.0367, b grad -0.181\n",
            "Epoch 313, cost 0.0573, m grad 0.0365, b grad -0.179\n",
            "Epoch 314, cost 0.057, m grad 0.0363, b grad -0.178\n",
            "Epoch 315, cost 0.0567, m grad 0.0361, b grad -0.177\n",
            "Epoch 316, cost 0.0563, m grad 0.0359, b grad -0.176\n",
            "Epoch 317, cost 0.056, m grad 0.0357, b grad -0.175\n",
            "Epoch 318, cost 0.0557, m grad 0.0355, b grad -0.174\n",
            "Epoch 319, cost 0.0554, m grad 0.0353, b grad -0.173\n",
            "Epoch 320, cost 0.0551, m grad 0.035, b grad -0.172\n",
            "Epoch 321, cost 0.0548, m grad 0.0348, b grad -0.171\n",
            "Epoch 322, cost 0.0544, m grad 0.0346, b grad -0.17\n",
            "Epoch 323, cost 0.0541, m grad 0.0344, b grad -0.169\n",
            "Epoch 324, cost 0.0538, m grad 0.0342, b grad -0.168\n",
            "Epoch 325, cost 0.0536, m grad 0.034, b grad -0.167\n",
            "Epoch 326, cost 0.0533, m grad 0.0339, b grad -0.166\n",
            "Epoch 327, cost 0.053, m grad 0.0337, b grad -0.166\n",
            "Epoch 328, cost 0.0527, m grad 0.0335, b grad -0.165\n",
            "Epoch 329, cost 0.0524, m grad 0.0333, b grad -0.164\n",
            "Epoch 330, cost 0.0521, m grad 0.0331, b grad -0.163\n",
            "Epoch 331, cost 0.0519, m grad 0.0329, b grad -0.162\n",
            "Epoch 332, cost 0.0516, m grad 0.0327, b grad -0.161\n",
            "Epoch 333, cost 0.0513, m grad 0.0325, b grad -0.16\n",
            "Epoch 334, cost 0.051, m grad 0.0323, b grad -0.159\n",
            "Epoch 335, cost 0.0508, m grad 0.0321, b grad -0.158\n",
            "Epoch 336, cost 0.0505, m grad 0.032, b grad -0.157\n",
            "Epoch 337, cost 0.0503, m grad 0.0318, b grad -0.156\n",
            "Epoch 338, cost 0.05, m grad 0.0316, b grad -0.155\n",
            "Epoch 339, cost 0.0498, m grad 0.0314, b grad -0.154\n",
            "Epoch 340, cost 0.0495, m grad 0.0312, b grad -0.154\n",
            "Epoch 341, cost 0.0493, m grad 0.031, b grad -0.153\n",
            "Epoch 342, cost 0.049, m grad 0.0309, b grad -0.152\n",
            "Epoch 343, cost 0.0488, m grad 0.0307, b grad -0.151\n",
            "Epoch 344, cost 0.0486, m grad 0.0305, b grad -0.15\n",
            "Epoch 345, cost 0.0483, m grad 0.0303, b grad -0.149\n",
            "Epoch 346, cost 0.0481, m grad 0.0302, b grad -0.148\n",
            "Epoch 347, cost 0.0479, m grad 0.03, b grad -0.147\n",
            "Epoch 348, cost 0.0476, m grad 0.0298, b grad -0.147\n",
            "Epoch 349, cost 0.0474, m grad 0.0296, b grad -0.146\n",
            "Epoch 350, cost 0.0472, m grad 0.0295, b grad -0.145\n",
            "Epoch 351, cost 0.047, m grad 0.0293, b grad -0.144\n",
            "Epoch 352, cost 0.0468, m grad 0.0291, b grad -0.143\n",
            "Epoch 353, cost 0.0465, m grad 0.029, b grad -0.142\n",
            "Epoch 354, cost 0.0463, m grad 0.0288, b grad -0.142\n",
            "Epoch 355, cost 0.0461, m grad 0.0286, b grad -0.141\n",
            "Epoch 356, cost 0.0459, m grad 0.0285, b grad -0.14\n",
            "Epoch 357, cost 0.0457, m grad 0.0283, b grad -0.139\n",
            "Epoch 358, cost 0.0455, m grad 0.0281, b grad -0.138\n",
            "Epoch 359, cost 0.0453, m grad 0.028, b grad -0.138\n",
            "Epoch 360, cost 0.0451, m grad 0.0278, b grad -0.137\n",
            "Epoch 361, cost 0.0449, m grad 0.0277, b grad -0.136\n",
            "Epoch 362, cost 0.0447, m grad 0.0275, b grad -0.135\n",
            "Epoch 363, cost 0.0445, m grad 0.0273, b grad -0.134\n",
            "Epoch 364, cost 0.0444, m grad 0.0272, b grad -0.134\n",
            "Epoch 365, cost 0.0442, m grad 0.027, b grad -0.133\n",
            "Epoch 366, cost 0.044, m grad 0.0269, b grad -0.132\n",
            "Epoch 367, cost 0.0438, m grad 0.0267, b grad -0.131\n",
            "Epoch 368, cost 0.0436, m grad 0.0266, b grad -0.131\n",
            "Epoch 369, cost 0.0435, m grad 0.0264, b grad -0.13\n",
            "Epoch 370, cost 0.0433, m grad 0.0262, b grad -0.129\n",
            "Epoch 371, cost 0.0431, m grad 0.0261, b grad -0.128\n",
            "Epoch 372, cost 0.0429, m grad 0.0259, b grad -0.128\n",
            "Epoch 373, cost 0.0428, m grad 0.0258, b grad -0.127\n",
            "Epoch 374, cost 0.0426, m grad 0.0256, b grad -0.126\n",
            "Epoch 375, cost 0.0424, m grad 0.0255, b grad -0.125\n",
            "Epoch 376, cost 0.0423, m grad 0.0254, b grad -0.125\n",
            "Epoch 377, cost 0.0421, m grad 0.0252, b grad -0.124\n",
            "Epoch 378, cost 0.042, m grad 0.0251, b grad -0.123\n",
            "Epoch 379, cost 0.0418, m grad 0.0249, b grad -0.123\n",
            "Epoch 380, cost 0.0416, m grad 0.0248, b grad -0.122\n",
            "Epoch 381, cost 0.0415, m grad 0.0246, b grad -0.121\n",
            "Epoch 382, cost 0.0413, m grad 0.0245, b grad -0.12\n",
            "Epoch 383, cost 0.0412, m grad 0.0243, b grad -0.12\n",
            "Epoch 384, cost 0.041, m grad 0.0242, b grad -0.119\n",
            "Epoch 385, cost 0.0409, m grad 0.0241, b grad -0.118\n",
            "Epoch 386, cost 0.0407, m grad 0.0239, b grad -0.118\n",
            "Epoch 387, cost 0.0406, m grad 0.0238, b grad -0.117\n",
            "Epoch 388, cost 0.0405, m grad 0.0237, b grad -0.116\n",
            "Epoch 389, cost 0.0403, m grad 0.0235, b grad -0.116\n",
            "Epoch 390, cost 0.0402, m grad 0.0234, b grad -0.115\n",
            "Epoch 391, cost 0.04, m grad 0.0232, b grad -0.114\n",
            "Epoch 392, cost 0.0399, m grad 0.0231, b grad -0.114\n",
            "Epoch 393, cost 0.0398, m grad 0.023, b grad -0.113\n",
            "Epoch 394, cost 0.0396, m grad 0.0228, b grad -0.112\n",
            "Epoch 395, cost 0.0395, m grad 0.0227, b grad -0.112\n",
            "Epoch 396, cost 0.0394, m grad 0.0226, b grad -0.111\n",
            "Epoch 397, cost 0.0392, m grad 0.0225, b grad -0.11\n",
            "Epoch 398, cost 0.0391, m grad 0.0223, b grad -0.11\n",
            "Epoch 399, cost 0.039, m grad 0.0222, b grad -0.109\n",
            "Epoch 400, cost 0.0389, m grad 0.0221, b grad -0.109\n",
            "Epoch 401, cost 0.0387, m grad 0.0219, b grad -0.108\n",
            "Epoch 402, cost 0.0386, m grad 0.0218, b grad -0.107\n",
            "Epoch 403, cost 0.0385, m grad 0.0217, b grad -0.107\n",
            "Epoch 404, cost 0.0384, m grad 0.0216, b grad -0.106\n",
            "Epoch 405, cost 0.0383, m grad 0.0214, b grad -0.105\n",
            "Epoch 406, cost 0.0382, m grad 0.0213, b grad -0.105\n",
            "Epoch 407, cost 0.038, m grad 0.0212, b grad -0.104\n",
            "Epoch 408, cost 0.0379, m grad 0.0211, b grad -0.104\n",
            "Epoch 409, cost 0.0378, m grad 0.0209, b grad -0.103\n",
            "Epoch 410, cost 0.0377, m grad 0.0208, b grad -0.102\n",
            "Epoch 411, cost 0.0376, m grad 0.0207, b grad -0.102\n",
            "Epoch 412, cost 0.0375, m grad 0.0206, b grad -0.101\n",
            "Epoch 413, cost 0.0374, m grad 0.0205, b grad -0.101\n",
            "Epoch 414, cost 0.0373, m grad 0.0204, b grad -0.1\n",
            "Epoch 415, cost 0.0372, m grad 0.0202, b grad -0.0995\n",
            "Epoch 416, cost 0.0371, m grad 0.0201, b grad -0.0989\n",
            "Epoch 417, cost 0.037, m grad 0.02, b grad -0.0984\n",
            "Epoch 418, cost 0.0369, m grad 0.0199, b grad -0.0978\n",
            "Epoch 419, cost 0.0368, m grad 0.0198, b grad -0.0972\n",
            "Epoch 420, cost 0.0367, m grad 0.0197, b grad -0.0967\n",
            "Epoch 421, cost 0.0366, m grad 0.0195, b grad -0.0961\n",
            "Epoch 422, cost 0.0365, m grad 0.0194, b grad -0.0956\n",
            "Epoch 423, cost 0.0364, m grad 0.0193, b grad -0.095\n",
            "Epoch 424, cost 0.0363, m grad 0.0192, b grad -0.0945\n",
            "Epoch 425, cost 0.0362, m grad 0.0191, b grad -0.0939\n",
            "Epoch 426, cost 0.0361, m grad 0.019, b grad -0.0934\n",
            "Epoch 427, cost 0.036, m grad 0.0189, b grad -0.0928\n",
            "Epoch 428, cost 0.0359, m grad 0.0188, b grad -0.0923\n",
            "Epoch 429, cost 0.0358, m grad 0.0187, b grad -0.0918\n",
            "Epoch 430, cost 0.0358, m grad 0.0186, b grad -0.0912\n",
            "Epoch 431, cost 0.0357, m grad 0.0184, b grad -0.0907\n",
            "Epoch 432, cost 0.0356, m grad 0.0183, b grad -0.0902\n",
            "Epoch 433, cost 0.0355, m grad 0.0182, b grad -0.0897\n",
            "Epoch 434, cost 0.0354, m grad 0.0181, b grad -0.0892\n",
            "Epoch 435, cost 0.0353, m grad 0.018, b grad -0.0886\n",
            "Epoch 436, cost 0.0352, m grad 0.0179, b grad -0.0881\n",
            "Epoch 437, cost 0.0352, m grad 0.0178, b grad -0.0876\n",
            "Epoch 438, cost 0.0351, m grad 0.0177, b grad -0.0871\n",
            "Epoch 439, cost 0.035, m grad 0.0176, b grad -0.0866\n",
            "Epoch 440, cost 0.0349, m grad 0.0175, b grad -0.0861\n",
            "Epoch 441, cost 0.0349, m grad 0.0174, b grad -0.0856\n",
            "Epoch 442, cost 0.0348, m grad 0.0173, b grad -0.0851\n",
            "Epoch 443, cost 0.0347, m grad 0.0172, b grad -0.0846\n",
            "Epoch 444, cost 0.0346, m grad 0.0171, b grad -0.0841\n",
            "Epoch 445, cost 0.0346, m grad 0.017, b grad -0.0837\n",
            "Epoch 446, cost 0.0345, m grad 0.0169, b grad -0.0832\n",
            "Epoch 447, cost 0.0344, m grad 0.0168, b grad -0.0827\n",
            "Epoch 448, cost 0.0343, m grad 0.0167, b grad -0.0822\n",
            "Epoch 449, cost 0.0343, m grad 0.0166, b grad -0.0817\n",
            "Epoch 450, cost 0.0342, m grad 0.0165, b grad -0.0813\n",
            "Epoch 451, cost 0.0341, m grad 0.0164, b grad -0.0808\n",
            "Epoch 452, cost 0.0341, m grad 0.0163, b grad -0.0803\n",
            "Epoch 453, cost 0.034, m grad 0.0162, b grad -0.0799\n",
            "Epoch 454, cost 0.0339, m grad 0.0162, b grad -0.0794\n",
            "Epoch 455, cost 0.0339, m grad 0.0161, b grad -0.079\n",
            "Epoch 456, cost 0.0338, m grad 0.016, b grad -0.0785\n",
            "Epoch 457, cost 0.0337, m grad 0.0159, b grad -0.0781\n",
            "Epoch 458, cost 0.0337, m grad 0.0158, b grad -0.0776\n",
            "Epoch 459, cost 0.0336, m grad 0.0157, b grad -0.0772\n",
            "Epoch 460, cost 0.0335, m grad 0.0156, b grad -0.0767\n",
            "Epoch 461, cost 0.0335, m grad 0.0155, b grad -0.0763\n",
            "Epoch 462, cost 0.0334, m grad 0.0154, b grad -0.0758\n",
            "Epoch 463, cost 0.0334, m grad 0.0153, b grad -0.0754\n",
            "Epoch 464, cost 0.0333, m grad 0.0152, b grad -0.075\n",
            "Epoch 465, cost 0.0332, m grad 0.0152, b grad -0.0745\n",
            "Epoch 466, cost 0.0332, m grad 0.0151, b grad -0.0741\n",
            "Epoch 467, cost 0.0331, m grad 0.015, b grad -0.0737\n",
            "Epoch 468, cost 0.0331, m grad 0.0149, b grad -0.0732\n",
            "Epoch 469, cost 0.033, m grad 0.0148, b grad -0.0728\n",
            "Epoch 470, cost 0.033, m grad 0.0147, b grad -0.0724\n",
            "Epoch 471, cost 0.0329, m grad 0.0146, b grad -0.072\n",
            "Epoch 472, cost 0.0329, m grad 0.0146, b grad -0.0716\n",
            "Epoch 473, cost 0.0328, m grad 0.0145, b grad -0.0712\n",
            "Epoch 474, cost 0.0328, m grad 0.0144, b grad -0.0707\n",
            "Epoch 475, cost 0.0327, m grad 0.0143, b grad -0.0703\n",
            "Epoch 476, cost 0.0326, m grad 0.0142, b grad -0.0699\n",
            "Epoch 477, cost 0.0326, m grad 0.0141, b grad -0.0695\n",
            "Epoch 478, cost 0.0325, m grad 0.0141, b grad -0.0691\n",
            "Epoch 479, cost 0.0325, m grad 0.014, b grad -0.0687\n",
            "Epoch 480, cost 0.0324, m grad 0.0139, b grad -0.0683\n",
            "Epoch 481, cost 0.0324, m grad 0.0138, b grad -0.0679\n",
            "Epoch 482, cost 0.0324, m grad 0.0137, b grad -0.0675\n",
            "Epoch 483, cost 0.0323, m grad 0.0137, b grad -0.0672\n",
            "Epoch 484, cost 0.0323, m grad 0.0136, b grad -0.0668\n",
            "Epoch 485, cost 0.0322, m grad 0.0135, b grad -0.0664\n",
            "Epoch 486, cost 0.0322, m grad 0.0134, b grad -0.066\n",
            "Epoch 487, cost 0.0321, m grad 0.0133, b grad -0.0656\n",
            "Epoch 488, cost 0.0321, m grad 0.0133, b grad -0.0652\n",
            "Epoch 489, cost 0.032, m grad 0.0132, b grad -0.0649\n",
            "Epoch 490, cost 0.032, m grad 0.0131, b grad -0.0645\n",
            "Epoch 491, cost 0.0319, m grad 0.013, b grad -0.0641\n",
            "Epoch 492, cost 0.0319, m grad 0.013, b grad -0.0638\n",
            "Epoch 493, cost 0.0319, m grad 0.0129, b grad -0.0634\n",
            "Epoch 494, cost 0.0318, m grad 0.0128, b grad -0.063\n",
            "Epoch 495, cost 0.0318, m grad 0.0127, b grad -0.0627\n",
            "Epoch 496, cost 0.0317, m grad 0.0127, b grad -0.0623\n",
            "Epoch 497, cost 0.0317, m grad 0.0126, b grad -0.0619\n",
            "Epoch 498, cost 0.0317, m grad 0.0125, b grad -0.0616\n",
            "Epoch 499, cost 0.0316, m grad 0.0125, b grad -0.0612\n",
            "Epoch 500, cost 0.0316, m grad 0.0124, b grad -0.0609\n",
            "Epoch 501, cost 0.0315, m grad 0.0123, b grad -0.0605\n",
            "Epoch 502, cost 0.0315, m grad 0.0122, b grad -0.0602\n",
            "Epoch 503, cost 0.0315, m grad 0.0122, b grad -0.0598\n",
            "Epoch 504, cost 0.0314, m grad 0.0121, b grad -0.0595\n",
            "Epoch 505, cost 0.0314, m grad 0.012, b grad -0.0591\n",
            "Epoch 506, cost 0.0314, m grad 0.012, b grad -0.0588\n",
            "Epoch 507, cost 0.0313, m grad 0.0119, b grad -0.0585\n",
            "Epoch 508, cost 0.0313, m grad 0.0118, b grad -0.0581\n",
            "Epoch 509, cost 0.0312, m grad 0.0118, b grad -0.0578\n",
            "Epoch 510, cost 0.0312, m grad 0.0117, b grad -0.0575\n",
            "Epoch 511, cost 0.0312, m grad 0.0116, b grad -0.0571\n",
            "Epoch 512, cost 0.0311, m grad 0.0115, b grad -0.0568\n",
            "Epoch 513, cost 0.0311, m grad 0.0115, b grad -0.0565\n",
            "Epoch 514, cost 0.0311, m grad 0.0114, b grad -0.0561\n",
            "Epoch 515, cost 0.031, m grad 0.0113, b grad -0.0558\n",
            "Epoch 516, cost 0.031, m grad 0.0113, b grad -0.0555\n",
            "Epoch 517, cost 0.031, m grad 0.0112, b grad -0.0552\n",
            "Epoch 518, cost 0.0309, m grad 0.0112, b grad -0.0549\n",
            "Epoch 519, cost 0.0309, m grad 0.0111, b grad -0.0545\n",
            "Epoch 520, cost 0.0309, m grad 0.011, b grad -0.0542\n",
            "Epoch 521, cost 0.0309, m grad 0.011, b grad -0.0539\n",
            "Epoch 522, cost 0.0308, m grad 0.0109, b grad -0.0536\n",
            "Epoch 523, cost 0.0308, m grad 0.0108, b grad -0.0533\n",
            "Epoch 524, cost 0.0308, m grad 0.0108, b grad -0.053\n",
            "Epoch 525, cost 0.0307, m grad 0.0107, b grad -0.0527\n",
            "Epoch 526, cost 0.0307, m grad 0.0107, b grad -0.0524\n",
            "Epoch 527, cost 0.0307, m grad 0.0106, b grad -0.0521\n",
            "Epoch 528, cost 0.0307, m grad 0.0105, b grad -0.0518\n",
            "Epoch 529, cost 0.0306, m grad 0.0105, b grad -0.0515\n",
            "Epoch 530, cost 0.0306, m grad 0.0104, b grad -0.0512\n",
            "Epoch 531, cost 0.0306, m grad 0.0103, b grad -0.0509\n",
            "Epoch 532, cost 0.0305, m grad 0.0103, b grad -0.0506\n",
            "Epoch 533, cost 0.0305, m grad 0.0102, b grad -0.0503\n",
            "Epoch 534, cost 0.0305, m grad 0.0102, b grad -0.05\n",
            "Epoch 535, cost 0.0305, m grad 0.0101, b grad -0.0497\n",
            "Epoch 536, cost 0.0304, m grad 0.0101, b grad -0.0494\n",
            "Epoch 537, cost 0.0304, m grad 0.01, b grad -0.0491\n",
            "Epoch 538, cost 0.0304, m grad 0.00994, b grad -0.0489\n",
            "Epoch 539, cost 0.0304, m grad 0.00988, b grad -0.0486\n",
            "Epoch 540, cost 0.0303, m grad 0.00982, b grad -0.0483\n",
            "Epoch 541, cost 0.0303, m grad 0.00977, b grad -0.048\n",
            "Epoch 542, cost 0.0303, m grad 0.00971, b grad -0.0477\n",
            "Epoch 543, cost 0.0303, m grad 0.00965, b grad -0.0475\n",
            "Epoch 544, cost 0.0302, m grad 0.0096, b grad -0.0472\n",
            "Epoch 545, cost 0.0302, m grad 0.00954, b grad -0.0469\n",
            "Epoch 546, cost 0.0302, m grad 0.00949, b grad -0.0467\n",
            "Epoch 547, cost 0.0302, m grad 0.00943, b grad -0.0464\n",
            "Epoch 548, cost 0.0302, m grad 0.00938, b grad -0.0461\n",
            "Epoch 549, cost 0.0301, m grad 0.00932, b grad -0.0459\n",
            "Epoch 550, cost 0.0301, m grad 0.00927, b grad -0.0456\n",
            "Epoch 551, cost 0.0301, m grad 0.00922, b grad -0.0453\n",
            "Epoch 552, cost 0.0301, m grad 0.00916, b grad -0.0451\n",
            "Epoch 553, cost 0.03, m grad 0.00911, b grad -0.0448\n",
            "Epoch 554, cost 0.03, m grad 0.00906, b grad -0.0445\n",
            "Epoch 555, cost 0.03, m grad 0.00901, b grad -0.0443\n",
            "Epoch 556, cost 0.03, m grad 0.00895, b grad -0.044\n",
            "Epoch 557, cost 0.03, m grad 0.0089, b grad -0.0438\n",
            "Epoch 558, cost 0.0299, m grad 0.00885, b grad -0.0435\n",
            "Epoch 559, cost 0.0299, m grad 0.0088, b grad -0.0433\n",
            "Epoch 560, cost 0.0299, m grad 0.00875, b grad -0.043\n",
            "Epoch 561, cost 0.0299, m grad 0.0087, b grad -0.0428\n",
            "Epoch 562, cost 0.0299, m grad 0.00865, b grad -0.0425\n",
            "Epoch 563, cost 0.0298, m grad 0.0086, b grad -0.0423\n",
            "Epoch 564, cost 0.0298, m grad 0.00855, b grad -0.042\n",
            "Epoch 565, cost 0.0298, m grad 0.0085, b grad -0.0418\n",
            "Epoch 566, cost 0.0298, m grad 0.00845, b grad -0.0416\n",
            "Epoch 567, cost 0.0298, m grad 0.0084, b grad -0.0413\n",
            "Epoch 568, cost 0.0298, m grad 0.00835, b grad -0.0411\n",
            "Epoch 569, cost 0.0297, m grad 0.00831, b grad -0.0408\n",
            "Epoch 570, cost 0.0297, m grad 0.00826, b grad -0.0406\n",
            "Epoch 571, cost 0.0297, m grad 0.00821, b grad -0.0404\n",
            "Epoch 572, cost 0.0297, m grad 0.00816, b grad -0.0401\n",
            "Epoch 573, cost 0.0297, m grad 0.00812, b grad -0.0399\n",
            "Epoch 574, cost 0.0297, m grad 0.00807, b grad -0.0397\n",
            "Epoch 575, cost 0.0296, m grad 0.00802, b grad -0.0395\n",
            "Epoch 576, cost 0.0296, m grad 0.00798, b grad -0.0392\n",
            "Epoch 577, cost 0.0296, m grad 0.00793, b grad -0.039\n",
            "Epoch 578, cost 0.0296, m grad 0.00788, b grad -0.0388\n",
            "Epoch 579, cost 0.0296, m grad 0.00784, b grad -0.0386\n",
            "Epoch 580, cost 0.0296, m grad 0.00779, b grad -0.0383\n",
            "Epoch 581, cost 0.0295, m grad 0.00775, b grad -0.0381\n",
            "Epoch 582, cost 0.0295, m grad 0.0077, b grad -0.0379\n",
            "Epoch 583, cost 0.0295, m grad 0.00766, b grad -0.0377\n",
            "Epoch 584, cost 0.0295, m grad 0.00762, b grad -0.0375\n",
            "Epoch 585, cost 0.0295, m grad 0.00757, b grad -0.0372\n",
            "Epoch 586, cost 0.0295, m grad 0.00753, b grad -0.037\n",
            "Epoch 587, cost 0.0295, m grad 0.00749, b grad -0.0368\n",
            "Epoch 588, cost 0.0294, m grad 0.00744, b grad -0.0366\n",
            "Epoch 589, cost 0.0294, m grad 0.0074, b grad -0.0364\n",
            "Epoch 590, cost 0.0294, m grad 0.00736, b grad -0.0362\n",
            "Epoch 591, cost 0.0294, m grad 0.00731, b grad -0.036\n",
            "Epoch 592, cost 0.0294, m grad 0.00727, b grad -0.0358\n",
            "Epoch 593, cost 0.0294, m grad 0.00723, b grad -0.0356\n",
            "Epoch 594, cost 0.0294, m grad 0.00719, b grad -0.0353\n",
            "Epoch 595, cost 0.0293, m grad 0.00715, b grad -0.0351\n",
            "Epoch 596, cost 0.0293, m grad 0.00711, b grad -0.0349\n",
            "Epoch 597, cost 0.0293, m grad 0.00706, b grad -0.0347\n",
            "Epoch 598, cost 0.0293, m grad 0.00702, b grad -0.0345\n",
            "Epoch 599, cost 0.0293, m grad 0.00698, b grad -0.0343\n",
            "Epoch 600, cost 0.0293, m grad 0.00694, b grad -0.0341\n",
            "Epoch 601, cost 0.0293, m grad 0.0069, b grad -0.0339\n",
            "Epoch 602, cost 0.0293, m grad 0.00686, b grad -0.0337\n",
            "Epoch 603, cost 0.0292, m grad 0.00682, b grad -0.0336\n",
            "Epoch 604, cost 0.0292, m grad 0.00678, b grad -0.0334\n",
            "Epoch 605, cost 0.0292, m grad 0.00675, b grad -0.0332\n",
            "Epoch 606, cost 0.0292, m grad 0.00671, b grad -0.033\n",
            "Epoch 607, cost 0.0292, m grad 0.00667, b grad -0.0328\n",
            "Epoch 608, cost 0.0292, m grad 0.00663, b grad -0.0326\n",
            "Epoch 609, cost 0.0292, m grad 0.00659, b grad -0.0324\n",
            "Epoch 610, cost 0.0292, m grad 0.00655, b grad -0.0322\n",
            "Epoch 611, cost 0.0292, m grad 0.00651, b grad -0.032\n",
            "Epoch 612, cost 0.0291, m grad 0.00648, b grad -0.0319\n",
            "Epoch 613, cost 0.0291, m grad 0.00644, b grad -0.0317\n",
            "Epoch 614, cost 0.0291, m grad 0.0064, b grad -0.0315\n",
            "Epoch 615, cost 0.0291, m grad 0.00637, b grad -0.0313\n",
            "Epoch 616, cost 0.0291, m grad 0.00633, b grad -0.0311\n",
            "Epoch 617, cost 0.0291, m grad 0.00629, b grad -0.0309\n",
            "Epoch 618, cost 0.0291, m grad 0.00626, b grad -0.0308\n",
            "Epoch 619, cost 0.0291, m grad 0.00622, b grad -0.0306\n",
            "Epoch 620, cost 0.0291, m grad 0.00619, b grad -0.0304\n",
            "Epoch 621, cost 0.0291, m grad 0.00615, b grad -0.0302\n",
            "Epoch 622, cost 0.029, m grad 0.00611, b grad -0.0301\n",
            "Epoch 623, cost 0.029, m grad 0.00608, b grad -0.0299\n",
            "Epoch 624, cost 0.029, m grad 0.00604, b grad -0.0297\n",
            "Epoch 625, cost 0.029, m grad 0.00601, b grad -0.0295\n",
            "Epoch 626, cost 0.029, m grad 0.00597, b grad -0.0294\n",
            "Epoch 627, cost 0.029, m grad 0.00594, b grad -0.0292\n",
            "Epoch 628, cost 0.029, m grad 0.0059, b grad -0.029\n",
            "Epoch 629, cost 0.029, m grad 0.00587, b grad -0.0289\n",
            "Epoch 630, cost 0.029, m grad 0.00584, b grad -0.0287\n",
            "Epoch 631, cost 0.029, m grad 0.0058, b grad -0.0285\n",
            "Epoch 632, cost 0.029, m grad 0.00577, b grad -0.0284\n",
            "Epoch 633, cost 0.029, m grad 0.00574, b grad -0.0282\n",
            "Epoch 634, cost 0.0289, m grad 0.0057, b grad -0.028\n",
            "Epoch 635, cost 0.0289, m grad 0.00567, b grad -0.0279\n",
            "Epoch 636, cost 0.0289, m grad 0.00564, b grad -0.0277\n",
            "Epoch 637, cost 0.0289, m grad 0.00561, b grad -0.0276\n",
            "Epoch 638, cost 0.0289, m grad 0.00557, b grad -0.0274\n",
            "Epoch 639, cost 0.0289, m grad 0.00554, b grad -0.0272\n",
            "Epoch 640, cost 0.0289, m grad 0.00551, b grad -0.0271\n",
            "Epoch 641, cost 0.0289, m grad 0.00548, b grad -0.0269\n",
            "Epoch 642, cost 0.0289, m grad 0.00545, b grad -0.0268\n",
            "Epoch 643, cost 0.0289, m grad 0.00542, b grad -0.0266\n",
            "Epoch 644, cost 0.0289, m grad 0.00538, b grad -0.0265\n",
            "Epoch 645, cost 0.0289, m grad 0.00535, b grad -0.0263\n",
            "Epoch 646, cost 0.0289, m grad 0.00532, b grad -0.0262\n",
            "Epoch 647, cost 0.0288, m grad 0.00529, b grad -0.026\n",
            "Epoch 648, cost 0.0288, m grad 0.00526, b grad -0.0259\n",
            "Epoch 649, cost 0.0288, m grad 0.00523, b grad -0.0257\n",
            "Epoch 650, cost 0.0288, m grad 0.0052, b grad -0.0256\n",
            "Epoch 651, cost 0.0288, m grad 0.00517, b grad -0.0254\n",
            "Epoch 652, cost 0.0288, m grad 0.00514, b grad -0.0253\n",
            "Epoch 653, cost 0.0288, m grad 0.00511, b grad -0.0251\n",
            "Epoch 654, cost 0.0288, m grad 0.00508, b grad -0.025\n",
            "Epoch 655, cost 0.0288, m grad 0.00505, b grad -0.0248\n",
            "Epoch 656, cost 0.0288, m grad 0.00502, b grad -0.0247\n",
            "Epoch 657, cost 0.0288, m grad 0.00499, b grad -0.0246\n",
            "Epoch 658, cost 0.0288, m grad 0.00496, b grad -0.0244\n",
            "Epoch 659, cost 0.0288, m grad 0.00494, b grad -0.0243\n",
            "Epoch 660, cost 0.0288, m grad 0.00491, b grad -0.0241\n",
            "Epoch 661, cost 0.0288, m grad 0.00488, b grad -0.024\n",
            "Epoch 662, cost 0.0287, m grad 0.00485, b grad -0.0239\n",
            "Epoch 663, cost 0.0287, m grad 0.00482, b grad -0.0237\n",
            "Epoch 664, cost 0.0287, m grad 0.0048, b grad -0.0236\n",
            "Epoch 665, cost 0.0287, m grad 0.00477, b grad -0.0234\n",
            "Epoch 666, cost 0.0287, m grad 0.00474, b grad -0.0233\n",
            "Epoch 667, cost 0.0287, m grad 0.00471, b grad -0.0232\n",
            "Epoch 668, cost 0.0287, m grad 0.00469, b grad -0.023\n",
            "Epoch 669, cost 0.0287, m grad 0.00466, b grad -0.0229\n",
            "Epoch 670, cost 0.0287, m grad 0.00463, b grad -0.0228\n",
            "Epoch 671, cost 0.0287, m grad 0.00461, b grad -0.0226\n",
            "Epoch 672, cost 0.0287, m grad 0.00458, b grad -0.0225\n",
            "Epoch 673, cost 0.0287, m grad 0.00455, b grad -0.0224\n",
            "Epoch 674, cost 0.0287, m grad 0.00453, b grad -0.0223\n",
            "Epoch 675, cost 0.0287, m grad 0.0045, b grad -0.0221\n",
            "Epoch 676, cost 0.0287, m grad 0.00447, b grad -0.022\n",
            "Epoch 677, cost 0.0287, m grad 0.00445, b grad -0.0219\n",
            "Epoch 678, cost 0.0287, m grad 0.00442, b grad -0.0217\n",
            "Epoch 679, cost 0.0287, m grad 0.0044, b grad -0.0216\n",
            "Epoch 680, cost 0.0286, m grad 0.00437, b grad -0.0215\n",
            "Epoch 681, cost 0.0286, m grad 0.00435, b grad -0.0214\n",
            "Epoch 682, cost 0.0286, m grad 0.00432, b grad -0.0213\n",
            "Epoch 683, cost 0.0286, m grad 0.0043, b grad -0.0211\n",
            "Epoch 684, cost 0.0286, m grad 0.00427, b grad -0.021\n",
            "Epoch 685, cost 0.0286, m grad 0.00425, b grad -0.0209\n",
            "Epoch 686, cost 0.0286, m grad 0.00422, b grad -0.0208\n",
            "Epoch 687, cost 0.0286, m grad 0.0042, b grad -0.0206\n",
            "Epoch 688, cost 0.0286, m grad 0.00417, b grad -0.0205\n",
            "Epoch 689, cost 0.0286, m grad 0.00415, b grad -0.0204\n",
            "Epoch 690, cost 0.0286, m grad 0.00413, b grad -0.0203\n",
            "Epoch 691, cost 0.0286, m grad 0.0041, b grad -0.0202\n",
            "Epoch 692, cost 0.0286, m grad 0.00408, b grad -0.0201\n",
            "Epoch 693, cost 0.0286, m grad 0.00405, b grad -0.0199\n",
            "Epoch 694, cost 0.0286, m grad 0.00403, b grad -0.0198\n",
            "Epoch 695, cost 0.0286, m grad 0.00401, b grad -0.0197\n",
            "Epoch 696, cost 0.0286, m grad 0.00398, b grad -0.0196\n",
            "Epoch 697, cost 0.0286, m grad 0.00396, b grad -0.0195\n",
            "Epoch 698, cost 0.0286, m grad 0.00394, b grad -0.0194\n",
            "Epoch 699, cost 0.0286, m grad 0.00392, b grad -0.0193\n",
            "Epoch 700, cost 0.0286, m grad 0.00389, b grad -0.0192\n",
            "Epoch 701, cost 0.0286, m grad 0.00387, b grad -0.019\n",
            "Epoch 702, cost 0.0286, m grad 0.00385, b grad -0.0189\n",
            "Epoch 703, cost 0.0286, m grad 0.00383, b grad -0.0188\n",
            "Epoch 704, cost 0.0285, m grad 0.00381, b grad -0.0187\n",
            "Epoch 705, cost 0.0285, m grad 0.00378, b grad -0.0186\n",
            "Epoch 706, cost 0.0285, m grad 0.00376, b grad -0.0185\n",
            "Epoch 707, cost 0.0285, m grad 0.00374, b grad -0.0184\n",
            "Epoch 708, cost 0.0285, m grad 0.00372, b grad -0.0183\n",
            "Epoch 709, cost 0.0285, m grad 0.0037, b grad -0.0182\n",
            "Epoch 710, cost 0.0285, m grad 0.00368, b grad -0.0181\n",
            "Epoch 711, cost 0.0285, m grad 0.00365, b grad -0.018\n",
            "Epoch 712, cost 0.0285, m grad 0.00363, b grad -0.0179\n",
            "Epoch 713, cost 0.0285, m grad 0.00361, b grad -0.0178\n",
            "Epoch 714, cost 0.0285, m grad 0.00359, b grad -0.0177\n",
            "Epoch 715, cost 0.0285, m grad 0.00357, b grad -0.0176\n",
            "Epoch 716, cost 0.0285, m grad 0.00355, b grad -0.0175\n",
            "Epoch 717, cost 0.0285, m grad 0.00353, b grad -0.0174\n",
            "Epoch 718, cost 0.0285, m grad 0.00351, b grad -0.0173\n",
            "Epoch 719, cost 0.0285, m grad 0.00349, b grad -0.0172\n",
            "Epoch 720, cost 0.0285, m grad 0.00347, b grad -0.0171\n",
            "Epoch 721, cost 0.0285, m grad 0.00345, b grad -0.017\n",
            "Epoch 722, cost 0.0285, m grad 0.00343, b grad -0.0169\n",
            "Epoch 723, cost 0.0285, m grad 0.00341, b grad -0.0168\n",
            "Epoch 724, cost 0.0285, m grad 0.00339, b grad -0.0167\n",
            "Epoch 725, cost 0.0285, m grad 0.00337, b grad -0.0166\n",
            "Epoch 726, cost 0.0285, m grad 0.00335, b grad -0.0165\n",
            "Epoch 727, cost 0.0285, m grad 0.00333, b grad -0.0164\n",
            "Epoch 728, cost 0.0285, m grad 0.00331, b grad -0.0163\n",
            "Epoch 729, cost 0.0285, m grad 0.00329, b grad -0.0162\n",
            "Epoch 730, cost 0.0285, m grad 0.00327, b grad -0.0161\n",
            "Epoch 731, cost 0.0285, m grad 0.00325, b grad -0.016\n",
            "Epoch 732, cost 0.0285, m grad 0.00324, b grad -0.0159\n",
            "Epoch 733, cost 0.0285, m grad 0.00322, b grad -0.0158\n",
            "Epoch 734, cost 0.0285, m grad 0.0032, b grad -0.0157\n",
            "Epoch 735, cost 0.0285, m grad 0.00318, b grad -0.0156\n",
            "Epoch 736, cost 0.0285, m grad 0.00316, b grad -0.0156\n",
            "Epoch 737, cost 0.0284, m grad 0.00315, b grad -0.0155\n",
            "Epoch 738, cost 0.0284, m grad 0.00313, b grad -0.0154\n",
            "Epoch 739, cost 0.0284, m grad 0.00311, b grad -0.0153\n",
            "Epoch 740, cost 0.0284, m grad 0.00309, b grad -0.0152\n",
            "Epoch 741, cost 0.0284, m grad 0.00307, b grad -0.0151\n",
            "Epoch 742, cost 0.0284, m grad 0.00306, b grad -0.015\n",
            "Epoch 743, cost 0.0284, m grad 0.00304, b grad -0.0149\n",
            "Epoch 744, cost 0.0284, m grad 0.00302, b grad -0.0148\n",
            "Epoch 745, cost 0.0284, m grad 0.003, b grad -0.0148\n",
            "Epoch 746, cost 0.0284, m grad 0.00298, b grad -0.0147\n",
            "Epoch 747, cost 0.0284, m grad 0.00297, b grad -0.0146\n",
            "Epoch 748, cost 0.0284, m grad 0.00295, b grad -0.0145\n",
            "Epoch 749, cost 0.0284, m grad 0.00293, b grad -0.0144\n",
            "Epoch 750, cost 0.0284, m grad 0.00292, b grad -0.0143\n",
            "Epoch 751, cost 0.0284, m grad 0.0029, b grad -0.0143\n",
            "Epoch 752, cost 0.0284, m grad 0.00288, b grad -0.0142\n",
            "Epoch 753, cost 0.0284, m grad 0.00287, b grad -0.0141\n",
            "Epoch 754, cost 0.0284, m grad 0.00285, b grad -0.014\n",
            "Epoch 755, cost 0.0284, m grad 0.00283, b grad -0.0139\n",
            "Epoch 756, cost 0.0284, m grad 0.00282, b grad -0.0139\n",
            "Epoch 757, cost 0.0284, m grad 0.0028, b grad -0.0138\n",
            "Epoch 758, cost 0.0284, m grad 0.00278, b grad -0.0137\n",
            "Epoch 759, cost 0.0284, m grad 0.00277, b grad -0.0136\n",
            "Epoch 760, cost 0.0284, m grad 0.00275, b grad -0.0135\n",
            "Epoch 761, cost 0.0284, m grad 0.00274, b grad -0.0135\n",
            "Epoch 762, cost 0.0284, m grad 0.00272, b grad -0.0134\n",
            "Epoch 763, cost 0.0284, m grad 0.0027, b grad -0.0133\n",
            "Epoch 764, cost 0.0284, m grad 0.00269, b grad -0.0132\n",
            "Epoch 765, cost 0.0284, m grad 0.00267, b grad -0.0132\n",
            "Epoch 766, cost 0.0284, m grad 0.00266, b grad -0.0131\n",
            "Epoch 767, cost 0.0284, m grad 0.00264, b grad -0.013\n",
            "Epoch 768, cost 0.0284, m grad 0.00263, b grad -0.0129\n",
            "Epoch 769, cost 0.0284, m grad 0.00261, b grad -0.0128\n",
            "Epoch 770, cost 0.0284, m grad 0.0026, b grad -0.0128\n",
            "Epoch 771, cost 0.0284, m grad 0.00258, b grad -0.0127\n",
            "Epoch 772, cost 0.0284, m grad 0.00257, b grad -0.0126\n",
            "Epoch 773, cost 0.0284, m grad 0.00255, b grad -0.0126\n",
            "Epoch 774, cost 0.0284, m grad 0.00254, b grad -0.0125\n",
            "Epoch 775, cost 0.0284, m grad 0.00252, b grad -0.0124\n",
            "Epoch 776, cost 0.0284, m grad 0.00251, b grad -0.0123\n",
            "Epoch 777, cost 0.0284, m grad 0.00249, b grad -0.0123\n",
            "Epoch 778, cost 0.0284, m grad 0.00248, b grad -0.0122\n",
            "Epoch 779, cost 0.0284, m grad 0.00247, b grad -0.0121\n",
            "Epoch 780, cost 0.0284, m grad 0.00245, b grad -0.0121\n",
            "Epoch 781, cost 0.0284, m grad 0.00244, b grad -0.012\n",
            "Epoch 782, cost 0.0284, m grad 0.00242, b grad -0.0119\n",
            "Epoch 783, cost 0.0284, m grad 0.00241, b grad -0.0119\n",
            "Epoch 784, cost 0.0284, m grad 0.0024, b grad -0.0118\n",
            "Epoch 785, cost 0.0284, m grad 0.00238, b grad -0.0117\n",
            "Epoch 786, cost 0.0284, m grad 0.00237, b grad -0.0116\n",
            "Epoch 787, cost 0.0284, m grad 0.00235, b grad -0.0116\n",
            "Epoch 788, cost 0.0284, m grad 0.00234, b grad -0.0115\n",
            "Epoch 789, cost 0.0284, m grad 0.00233, b grad -0.0114\n",
            "Epoch 790, cost 0.0283, m grad 0.00231, b grad -0.0114\n",
            "Epoch 791, cost 0.0283, m grad 0.0023, b grad -0.0113\n",
            "Epoch 792, cost 0.0283, m grad 0.00229, b grad -0.0112\n",
            "Epoch 793, cost 0.0283, m grad 0.00227, b grad -0.0112\n",
            "Epoch 794, cost 0.0283, m grad 0.00226, b grad -0.0111\n",
            "Epoch 795, cost 0.0283, m grad 0.00225, b grad -0.0111\n",
            "Epoch 796, cost 0.0283, m grad 0.00224, b grad -0.011\n",
            "Epoch 797, cost 0.0283, m grad 0.00222, b grad -0.0109\n",
            "Epoch 798, cost 0.0283, m grad 0.00221, b grad -0.0109\n",
            "Epoch 799, cost 0.0283, m grad 0.0022, b grad -0.0108\n",
            "Epoch 800, cost 0.0283, m grad 0.00218, b grad -0.0107\n",
            "Epoch 801, cost 0.0283, m grad 0.00217, b grad -0.0107\n",
            "Epoch 802, cost 0.0283, m grad 0.00216, b grad -0.0106\n",
            "Epoch 803, cost 0.0283, m grad 0.00215, b grad -0.0106\n",
            "Epoch 804, cost 0.0283, m grad 0.00213, b grad -0.0105\n",
            "Epoch 805, cost 0.0283, m grad 0.00212, b grad -0.0104\n",
            "Epoch 806, cost 0.0283, m grad 0.00211, b grad -0.0104\n",
            "Epoch 807, cost 0.0283, m grad 0.0021, b grad -0.0103\n",
            "Epoch 808, cost 0.0283, m grad 0.00208, b grad -0.0103\n",
            "Epoch 809, cost 0.0283, m grad 0.00207, b grad -0.0102\n",
            "Epoch 810, cost 0.0283, m grad 0.00206, b grad -0.0101\n",
            "Epoch 811, cost 0.0283, m grad 0.00205, b grad -0.0101\n",
            "Epoch 812, cost 0.0283, m grad 0.00204, b grad -0.01\n",
            "Epoch 813, cost 0.0283, m grad 0.00203, b grad -0.00996\n",
            "Epoch 814, cost 0.0283, m grad 0.00201, b grad -0.00991\n",
            "Epoch 815, cost 0.0283, m grad 0.002, b grad -0.00985\n",
            "Epoch 816, cost 0.0283, m grad 0.00199, b grad -0.00979\n",
            "Epoch 817, cost 0.0283, m grad 0.00198, b grad -0.00974\n",
            "Epoch 818, cost 0.0283, m grad 0.00197, b grad -0.00968\n",
            "Epoch 819, cost 0.0283, m grad 0.00196, b grad -0.00962\n",
            "Epoch 820, cost 0.0283, m grad 0.00195, b grad -0.00957\n",
            "Epoch 821, cost 0.0283, m grad 0.00193, b grad -0.00951\n",
            "Epoch 822, cost 0.0283, m grad 0.00192, b grad -0.00946\n",
            "Epoch 823, cost 0.0283, m grad 0.00191, b grad -0.0094\n",
            "Epoch 824, cost 0.0283, m grad 0.0019, b grad -0.00935\n",
            "Epoch 825, cost 0.0283, m grad 0.00189, b grad -0.0093\n",
            "Epoch 826, cost 0.0283, m grad 0.00188, b grad -0.00924\n",
            "Epoch 827, cost 0.0283, m grad 0.00187, b grad -0.00919\n",
            "Epoch 828, cost 0.0283, m grad 0.00186, b grad -0.00914\n",
            "Epoch 829, cost 0.0283, m grad 0.00185, b grad -0.00908\n",
            "Epoch 830, cost 0.0283, m grad 0.00184, b grad -0.00903\n",
            "Epoch 831, cost 0.0283, m grad 0.00183, b grad -0.00898\n",
            "Epoch 832, cost 0.0283, m grad 0.00181, b grad -0.00893\n",
            "Epoch 833, cost 0.0283, m grad 0.0018, b grad -0.00888\n",
            "Epoch 834, cost 0.0283, m grad 0.00179, b grad -0.00882\n",
            "Epoch 835, cost 0.0283, m grad 0.00178, b grad -0.00877\n",
            "Epoch 836, cost 0.0283, m grad 0.00177, b grad -0.00872\n",
            "Epoch 837, cost 0.0283, m grad 0.00176, b grad -0.00867\n",
            "Epoch 838, cost 0.0283, m grad 0.00175, b grad -0.00862\n",
            "Epoch 839, cost 0.0283, m grad 0.00174, b grad -0.00857\n",
            "Epoch 840, cost 0.0283, m grad 0.00173, b grad -0.00852\n",
            "Epoch 841, cost 0.0283, m grad 0.00172, b grad -0.00847\n",
            "Epoch 842, cost 0.0283, m grad 0.00171, b grad -0.00843\n",
            "Epoch 843, cost 0.0283, m grad 0.0017, b grad -0.00838\n",
            "Epoch 844, cost 0.0283, m grad 0.00169, b grad -0.00833\n",
            "Epoch 845, cost 0.0283, m grad 0.00168, b grad -0.00828\n",
            "Epoch 846, cost 0.0283, m grad 0.00168, b grad -0.00823\n",
            "Epoch 847, cost 0.0283, m grad 0.00167, b grad -0.00818\n",
            "Epoch 848, cost 0.0283, m grad 0.00166, b grad -0.00814\n",
            "Epoch 849, cost 0.0283, m grad 0.00165, b grad -0.00809\n",
            "Epoch 850, cost 0.0283, m grad 0.00164, b grad -0.00804\n",
            "Epoch 851, cost 0.0283, m grad 0.00163, b grad -0.008\n",
            "Epoch 852, cost 0.0283, m grad 0.00162, b grad -0.00795\n",
            "Epoch 853, cost 0.0283, m grad 0.00161, b grad -0.00791\n",
            "Epoch 854, cost 0.0283, m grad 0.0016, b grad -0.00786\n",
            "Epoch 855, cost 0.0283, m grad 0.00159, b grad -0.00782\n",
            "Epoch 856, cost 0.0283, m grad 0.00158, b grad -0.00777\n",
            "Epoch 857, cost 0.0283, m grad 0.00157, b grad -0.00773\n",
            "Epoch 858, cost 0.0283, m grad 0.00156, b grad -0.00768\n",
            "Epoch 859, cost 0.0283, m grad 0.00155, b grad -0.00764\n",
            "Epoch 860, cost 0.0283, m grad 0.00155, b grad -0.00759\n",
            "Epoch 861, cost 0.0283, m grad 0.00154, b grad -0.00755\n",
            "Epoch 862, cost 0.0283, m grad 0.00153, b grad -0.0075\n",
            "Epoch 863, cost 0.0283, m grad 0.00152, b grad -0.00746\n",
            "Epoch 864, cost 0.0283, m grad 0.00151, b grad -0.00742\n",
            "Epoch 865, cost 0.0283, m grad 0.0015, b grad -0.00738\n",
            "Epoch 866, cost 0.0283, m grad 0.00149, b grad -0.00733\n",
            "Epoch 867, cost 0.0283, m grad 0.00148, b grad -0.00729\n",
            "Epoch 868, cost 0.0283, m grad 0.00147, b grad -0.00725\n",
            "Epoch 869, cost 0.0283, m grad 0.00147, b grad -0.00721\n",
            "Epoch 870, cost 0.0283, m grad 0.00146, b grad -0.00717\n",
            "Epoch 871, cost 0.0283, m grad 0.00145, b grad -0.00712\n",
            "Epoch 872, cost 0.0283, m grad 0.00144, b grad -0.00708\n",
            "Epoch 873, cost 0.0283, m grad 0.00143, b grad -0.00704\n",
            "Epoch 874, cost 0.0283, m grad 0.00142, b grad -0.007\n",
            "Epoch 875, cost 0.0283, m grad 0.00141, b grad -0.00696\n",
            "Epoch 876, cost 0.0283, m grad 0.00141, b grad -0.00692\n",
            "Epoch 877, cost 0.0283, m grad 0.0014, b grad -0.00688\n",
            "Epoch 878, cost 0.0283, m grad 0.00139, b grad -0.00684\n",
            "Epoch 879, cost 0.0283, m grad 0.00138, b grad -0.0068\n",
            "Epoch 880, cost 0.0283, m grad 0.00138, b grad -0.00676\n",
            "Epoch 881, cost 0.0283, m grad 0.00137, b grad -0.00672\n",
            "Epoch 882, cost 0.0283, m grad 0.00136, b grad -0.00669\n",
            "Epoch 883, cost 0.0283, m grad 0.00135, b grad -0.00665\n",
            "Epoch 884, cost 0.0283, m grad 0.00134, b grad -0.00661\n",
            "Epoch 885, cost 0.0283, m grad 0.00134, b grad -0.00657\n",
            "Epoch 886, cost 0.0283, m grad 0.00133, b grad -0.00653\n",
            "Epoch 887, cost 0.0283, m grad 0.00132, b grad -0.00649\n",
            "Epoch 888, cost 0.0283, m grad 0.00131, b grad -0.00646\n",
            "Epoch 889, cost 0.0283, m grad 0.00131, b grad -0.00642\n",
            "Epoch 890, cost 0.0283, m grad 0.0013, b grad -0.00638\n",
            "Epoch 891, cost 0.0283, m grad 0.00129, b grad -0.00635\n",
            "Epoch 892, cost 0.0283, m grad 0.00128, b grad -0.00631\n",
            "Epoch 893, cost 0.0283, m grad 0.00128, b grad -0.00627\n",
            "Epoch 894, cost 0.0283, m grad 0.00127, b grad -0.00624\n",
            "Epoch 895, cost 0.0283, m grad 0.00126, b grad -0.0062\n",
            "Epoch 896, cost 0.0283, m grad 0.00125, b grad -0.00617\n",
            "Epoch 897, cost 0.0283, m grad 0.00125, b grad -0.00613\n",
            "Epoch 898, cost 0.0283, m grad 0.00124, b grad -0.00609\n",
            "Epoch 899, cost 0.0283, m grad 0.00123, b grad -0.00606\n",
            "Epoch 900, cost 0.0283, m grad 0.00122, b grad -0.00602\n",
            "Epoch 901, cost 0.0283, m grad 0.00122, b grad -0.00599\n",
            "Epoch 902, cost 0.0283, m grad 0.00121, b grad -0.00596\n",
            "Epoch 903, cost 0.0283, m grad 0.0012, b grad -0.00592\n",
            "Epoch 904, cost 0.0283, m grad 0.0012, b grad -0.00589\n",
            "Epoch 905, cost 0.0283, m grad 0.00119, b grad -0.00585\n",
            "Epoch 906, cost 0.0283, m grad 0.00118, b grad -0.00582\n",
            "Epoch 907, cost 0.0283, m grad 0.00118, b grad -0.00579\n",
            "Epoch 908, cost 0.0283, m grad 0.00117, b grad -0.00575\n",
            "Epoch 909, cost 0.0283, m grad 0.00116, b grad -0.00572\n",
            "Epoch 910, cost 0.0283, m grad 0.00116, b grad -0.00569\n",
            "Epoch 911, cost 0.0283, m grad 0.00115, b grad -0.00565\n",
            "Epoch 912, cost 0.0283, m grad 0.00114, b grad -0.00562\n",
            "Epoch 913, cost 0.0283, m grad 0.00114, b grad -0.00559\n",
            "Epoch 914, cost 0.0283, m grad 0.00113, b grad -0.00556\n",
            "Epoch 915, cost 0.0283, m grad 0.00112, b grad -0.00552\n",
            "Epoch 916, cost 0.0283, m grad 0.00112, b grad -0.00549\n",
            "Epoch 917, cost 0.0283, m grad 0.00111, b grad -0.00546\n",
            "Epoch 918, cost 0.0283, m grad 0.0011, b grad -0.00543\n",
            "Epoch 919, cost 0.0283, m grad 0.0011, b grad -0.0054\n",
            "Epoch 920, cost 0.0283, m grad 0.00109, b grad -0.00537\n",
            "Epoch 921, cost 0.0283, m grad 0.00109, b grad -0.00534\n",
            "Epoch 922, cost 0.0283, m grad 0.00108, b grad -0.0053\n",
            "Epoch 923, cost 0.0283, m grad 0.00107, b grad -0.00527\n",
            "Epoch 924, cost 0.0283, m grad 0.00107, b grad -0.00524\n",
            "Epoch 925, cost 0.0283, m grad 0.00106, b grad -0.00521\n",
            "Epoch 926, cost 0.0283, m grad 0.00105, b grad -0.00518\n",
            "Epoch 927, cost 0.0283, m grad 0.00105, b grad -0.00515\n",
            "Epoch 928, cost 0.0283, m grad 0.00104, b grad -0.00512\n",
            "Epoch 929, cost 0.0283, m grad 0.00104, b grad -0.00509\n",
            "Epoch 930, cost 0.0283, m grad 0.00103, b grad -0.00507\n",
            "Epoch 931, cost 0.0283, m grad 0.00102, b grad -0.00504\n",
            "Epoch 932, cost 0.0283, m grad 0.00102, b grad -0.00501\n",
            "Epoch 933, cost 0.0283, m grad 0.00101, b grad -0.00498\n",
            "Epoch 934, cost 0.0283, m grad 0.00101, b grad -0.00495\n",
            "Epoch 935, cost 0.0283, m grad 0.001, b grad -0.00492\n",
            "Epoch 936, cost 0.0283, m grad 0.000995, b grad -0.00489\n",
            "Epoch 937, cost 0.0283, m grad 0.000989, b grad -0.00486\n",
            "Epoch 938, cost 0.0283, m grad 0.000983, b grad -0.00484\n",
            "Epoch 939, cost 0.0283, m grad 0.000977, b grad -0.00481\n",
            "Epoch 940, cost 0.0283, m grad 0.000972, b grad -0.00478\n",
            "Epoch 941, cost 0.0283, m grad 0.000966, b grad -0.00475\n",
            "Epoch 942, cost 0.0283, m grad 0.000961, b grad -0.00473\n",
            "Epoch 943, cost 0.0283, m grad 0.000955, b grad -0.0047\n",
            "Epoch 944, cost 0.0283, m grad 0.00095, b grad -0.00467\n",
            "Epoch 945, cost 0.0283, m grad 0.000944, b grad -0.00464\n",
            "Epoch 946, cost 0.0283, m grad 0.000939, b grad -0.00462\n",
            "Epoch 947, cost 0.0283, m grad 0.000934, b grad -0.00459\n",
            "Epoch 948, cost 0.0283, m grad 0.000928, b grad -0.00456\n",
            "Epoch 949, cost 0.0283, m grad 0.000924, b grad -0.00454\n",
            "Epoch 950, cost 0.0283, m grad 0.000918, b grad -0.00451\n",
            "Epoch 951, cost 0.0283, m grad 0.000912, b grad -0.00449\n",
            "Epoch 952, cost 0.0283, m grad 0.000906, b grad -0.00446\n",
            "Epoch 953, cost 0.0283, m grad 0.000901, b grad -0.00443\n",
            "Epoch 954, cost 0.0282, m grad 0.000897, b grad -0.00441\n",
            "Epoch 955, cost 0.0282, m grad 0.000892, b grad -0.00438\n",
            "Epoch 956, cost 0.0282, m grad 0.000887, b grad -0.00436\n",
            "Epoch 957, cost 0.0282, m grad 0.000881, b grad -0.00433\n",
            "Epoch 958, cost 0.0282, m grad 0.000876, b grad -0.00431\n",
            "Epoch 959, cost 0.0282, m grad 0.00087, b grad -0.00428\n",
            "Epoch 960, cost 0.0282, m grad 0.000865, b grad -0.00426\n",
            "Epoch 961, cost 0.0282, m grad 0.000861, b grad -0.00423\n",
            "Epoch 962, cost 0.0282, m grad 0.000855, b grad -0.00421\n",
            "Epoch 963, cost 0.0282, m grad 0.000851, b grad -0.00419\n",
            "Epoch 964, cost 0.0282, m grad 0.000845, b grad -0.00416\n",
            "Epoch 965, cost 0.0282, m grad 0.00084, b grad -0.00414\n",
            "Epoch 966, cost 0.0282, m grad 0.000836, b grad -0.00411\n",
            "Epoch 967, cost 0.0282, m grad 0.000831, b grad -0.00409\n",
            "Epoch 968, cost 0.0282, m grad 0.000826, b grad -0.00407\n",
            "Epoch 969, cost 0.0282, m grad 0.000823, b grad -0.00404\n",
            "Epoch 970, cost 0.0282, m grad 0.000817, b grad -0.00402\n",
            "Epoch 971, cost 0.0282, m grad 0.000813, b grad -0.004\n",
            "Epoch 972, cost 0.0282, m grad 0.000808, b grad -0.00397\n",
            "Epoch 973, cost 0.0282, m grad 0.000803, b grad -0.00395\n",
            "Epoch 974, cost 0.0282, m grad 0.000798, b grad -0.00393\n",
            "Epoch 975, cost 0.0282, m grad 0.000794, b grad -0.00391\n",
            "Epoch 976, cost 0.0282, m grad 0.00079, b grad -0.00388\n",
            "Epoch 977, cost 0.0282, m grad 0.000785, b grad -0.00386\n",
            "Epoch 978, cost 0.0282, m grad 0.000781, b grad -0.00384\n",
            "Epoch 979, cost 0.0282, m grad 0.000777, b grad -0.00382\n",
            "Epoch 980, cost 0.0282, m grad 0.000771, b grad -0.00379\n",
            "Epoch 981, cost 0.0282, m grad 0.000767, b grad -0.00377\n",
            "Epoch 982, cost 0.0282, m grad 0.000762, b grad -0.00375\n",
            "Epoch 983, cost 0.0282, m grad 0.000758, b grad -0.00373\n",
            "Epoch 984, cost 0.0282, m grad 0.000754, b grad -0.00371\n",
            "Epoch 985, cost 0.0282, m grad 0.00075, b grad -0.00369\n",
            "Epoch 986, cost 0.0282, m grad 0.000745, b grad -0.00366\n",
            "Epoch 987, cost 0.0282, m grad 0.00074, b grad -0.00364\n",
            "Epoch 988, cost 0.0282, m grad 0.000737, b grad -0.00362\n",
            "Epoch 989, cost 0.0282, m grad 0.000733, b grad -0.0036\n",
            "Epoch 990, cost 0.0282, m grad 0.000729, b grad -0.00358\n",
            "Epoch 991, cost 0.0282, m grad 0.000724, b grad -0.00356\n",
            "Epoch 992, cost 0.0282, m grad 0.00072, b grad -0.00354\n",
            "Epoch 993, cost 0.0282, m grad 0.000716, b grad -0.00352\n",
            "Epoch 994, cost 0.0282, m grad 0.000712, b grad -0.0035\n",
            "Epoch 995, cost 0.0282, m grad 0.000707, b grad -0.00348\n",
            "Epoch 996, cost 0.0282, m grad 0.000703, b grad -0.00346\n",
            "Epoch 997, cost 0.0282, m grad 0.000699, b grad -0.00344\n",
            "Epoch 998, cost 0.0282, m grad 0.000694, b grad -0.00342\n",
            "Epoch 999, cost 0.0282, m grad 0.00069, b grad -0.0034\n"
          ]
        }
      ]
    },
    {
      "cell_type": "code",
      "metadata": {
        "id": "fJeq0EFA09hG",
        "outputId": "e1a364de-2849-4cb7-c4ca-6041f1f18f2b",
        "colab": {
          "base_uri": "https://localhost:8080/",
          "height": 430
        }
      },
      "source": [
        "regression_plot(x, y, m, b)"
      ],
      "execution_count": 67,
      "outputs": [
        {
          "output_type": "display_data",
          "data": {
            "text/plain": [
              "<Figure size 640x480 with 1 Axes>"
            ],
            "image/png": "[encoded data removed]"
          },
          "metadata": {}
        }
      ]
    },
    {
      "cell_type": "code",
      "metadata": {
        "id": "S3B8PB5g09hG",
        "outputId": "26f3243b-d99d-4e81-9ea8-494d7df9ef80",
        "colab": {
          "base_uri": "https://localhost:8080/"
        }
      },
      "source": [
        "m.item()"
      ],
      "execution_count": 68,
      "outputs": [
        {
          "output_type": "execute_result",
          "data": {
            "text/plain": [
              "-0.4429031014442444"
            ]
          },
          "metadata": {},
          "execution_count": 68
        }
      ]
    },
    {
      "cell_type": "code",
      "metadata": {
        "id": "yYaCN83C09hG",
        "outputId": "22327420-0b31-438e-aff3-f6e3afb86baa",
        "colab": {
          "base_uri": "https://localhost:8080/"
        }
      },
      "source": [
        "b.item()"
      ],
      "execution_count": 69,
      "outputs": [
        {
          "output_type": "execute_result",
          "data": {
            "text/plain": [
              "1.81273353099823"
            ]
          },
          "metadata": {},
          "execution_count": 69
        }
      ]
    },
    {
      "cell_type": "markdown",
      "metadata": {
        "id": "GfoFI9-x09hG"
      },
      "source": [
        "**N.B.**: The model doesn't perfectly approximate the slope (-0.5) and $y$-intercept (2.0) used to simulate the outcomes $y$ at the top of this notebook. This reflects the imperfectness of the sample of eight data points due to adding random noise during the simulation step. In the real world, the best solution would be to sample additional data points: The more data we sample, the more accurate our estimates of the true underlying parameters will be."
      ]
    },
    {
      "cell_type": "markdown",
      "source": [
        "## The slope of x^2 +2x + 2, where x = 2"
      ],
      "metadata": {
        "id": "tve8Y_wW40Dw"
      }
    },
    {
      "cell_type": "code",
      "source": [
        "def f(my_x):\n",
        "  return my_x**2 + 2*my_x + 2"
      ],
      "metadata": {
        "id": "4zl4vTbl4zSp"
      },
      "execution_count": 41,
      "outputs": []
    },
    {
      "cell_type": "code",
      "source": [
        "x = torch.tensor(2.)\n",
        "x"
      ],
      "metadata": {
        "id": "ROOG1PpN5hUB",
        "outputId": "0f20742f-e6ec-486d-ca53-5ee13198e931",
        "colab": {
          "base_uri": "https://localhost:8080/"
        }
      },
      "execution_count": 35,
      "outputs": [
        {
          "output_type": "execute_result",
          "data": {
            "text/plain": [
              "tensor(2.)"
            ]
          },
          "metadata": {},
          "execution_count": 35
        }
      ]
    },
    {
      "cell_type": "code",
      "source": [
        "x.requires_grad_()"
      ],
      "metadata": {
        "id": "5vXbrAhq5jAF",
        "outputId": "471d025a-0bc1-4e0e-f504-7a975bf881c1",
        "colab": {
          "base_uri": "https://localhost:8080/"
        }
      },
      "execution_count": 36,
      "outputs": [
        {
          "output_type": "execute_result",
          "data": {
            "text/plain": [
              "tensor(2., requires_grad=True)"
            ]
          },
          "metadata": {},
          "execution_count": 36
        }
      ]
    },
    {
      "cell_type": "code",
      "source": [
        "y = f(x)\n",
        "y"
      ],
      "metadata": {
        "id": "0CHLEzVb5vn0",
        "outputId": "5920c1b3-7ec9-4b3b-9320-c56a6d1b1df7",
        "colab": {
          "base_uri": "https://localhost:8080/"
        }
      },
      "execution_count": 37,
      "outputs": [
        {
          "output_type": "execute_result",
          "data": {
            "text/plain": [
              "tensor(10., grad_fn=<AddBackward0>)"
            ]
          },
          "metadata": {},
          "execution_count": 37
        }
      ]
    },
    {
      "cell_type": "code",
      "source": [
        "y.backward()"
      ],
      "metadata": {
        "id": "rf2RZm996O7V"
      },
      "execution_count": 42,
      "outputs": []
    },
    {
      "cell_type": "code",
      "source": [
        "x.grad"
      ],
      "metadata": {
        "id": "GmSbUBdw6Ru2",
        "outputId": "ce012809-acc8-442d-ff3b-b29cae573471",
        "colab": {
          "base_uri": "https://localhost:8080/"
        }
      },
      "execution_count": 43,
      "outputs": [
        {
          "output_type": "execute_result",
          "data": {
            "text/plain": [
              "tensor(6.)"
            ]
          },
          "metadata": {},
          "execution_count": 43
        }
      ]
    }
  ]
}