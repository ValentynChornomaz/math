{
  "nbformat": 4,
  "nbformat_minor": 0,
  "metadata": {
    "colab": {
      "name": "3-calculus-i.ipynb",
      "provenance": [],
      "include_colab_link": true
    },
    "kernelspec": {
      "display_name": "Python 3",
      "language": "python",
      "name": "python3"
    },
    "language_info": {
      "codemirror_mode": {
        "name": "ipython",
        "version": 3
      },
      "file_extension": ".py",
      "mimetype": "text/x-python",
      "name": "python",
      "nbconvert_exporter": "python",
      "pygments_lexer": "ipython3",
      "version": "3.7.6"
    }
  },
  "cells": [
    {
      "cell_type": "markdown",
      "metadata": {
        "id": "view-in-github",
        "colab_type": "text"
      },
      "source": [
        "<a href=\"https://colab.research.google.com/github/ValentynChornomaz/math/blob/main/notebooks/3-calculus-i.ipynb\" target=\"_parent\"><img src=\"https://colab.research.google.com/assets/colab-badge.svg\" alt=\"Open In Colab\"/></a>"
      ]
    },
    {
      "cell_type": "markdown",
      "metadata": {
        "id": "aTOLgsbN69-P"
      },
      "source": [
        "# Calculus I: Limits & Derivatives"
      ]
    },
    {
      "cell_type": "markdown",
      "metadata": {
        "id": "yqUB9FTRAxd-"
      },
      "source": [
        "This topic, *Calculus I: Limits & Derivatives*, introduces the mathematical field of calculus -- the study of rates of change -- from the ground up. It is essential because computing derivatives via differentiation is the basis of optimizing most machine learning algorithms, including those used in deep learning such as backpropagation and stochastic gradient descent.\n",
        "\n",
        "Through the measured exposition of theory paired with interactive examples, you’ll develop a working understanding of how calculus is used to compute limits and differentiate functions. You’ll also learn how to apply automatic differentiation within the popular TensorFlow 2 and PyTorch machine learning libraries. The content covered in this class is itself foundational for several other topics in the *Machine Learning Foundations* series, especially *Calculus II* and *Optimization*."
      ]
    },
    {
      "cell_type": "markdown",
      "metadata": {
        "id": "d4tBvI88BheF"
      },
      "source": [
        "Over the course of studying this topic, you'll:\n",
        "\n",
        "* Develop an understanding of what’s going on beneath the hood of machine learning algorithms, including those used for deep learning.\n",
        "* Be able to more intimately grasp the details of machine learning papers as well as many of the other subjects that underlie ML, including partial-derivative calculus, statistics and optimization algorithms.\n",
        "* Compute the derivatives of functions, including by using AutoDiff in the popular TensorFlow 2 and PyTorch libraries."
      ]
    },
    {
      "cell_type": "markdown",
      "metadata": {
        "id": "Z68nQ0ekCYhF"
      },
      "source": [
        "**Note that this Jupyter notebook is not intended to stand alone. It is the companion code to a lecture or to videos from Jon Krohn's [Machine Learning Foundations](https://github.com/jonkrohn/ML-foundations) series, which offer detail on the following:**\n",
        "\n",
        "*Segment 1: Limits*\n",
        "\n",
        "* What Calculus Is\n",
        "* A Brief History of Calculus\n",
        "* The Method of Exhaustion\n",
        "* Calculating Limits\n",
        "\n",
        "*Segment 2: Computing Derivatives with Differentiation*\n",
        "* The Delta Method\n",
        "* The Differentiation Equation\n",
        "* Derivative Notation\n",
        "* The Power Rule\n",
        "* The Constant Multiple Rule\n",
        "* The Sum Rule\n",
        "* The Product Rule\n",
        "* The Quotient Rule\n",
        "* The Chain Rule\n",
        "\n",
        "*Segment 3: Automatic Differentiation*\n",
        "* AutoDiff with PyTorch\n",
        "* AutoDiff with TensorFlow 2\n",
        "* Machine Learning via Differentiation\n",
        "* Cost (or Loss) Functions\n",
        "* The Future: Differentiable Programming\n"
      ]
    },
    {
      "cell_type": "markdown",
      "metadata": {
        "id": "1SHRQmz0cxYw"
      },
      "source": [
        "## Segment 1: Limits"
      ]
    },
    {
      "cell_type": "markdown",
      "metadata": {
        "id": "ab2YePNtcxYx"
      },
      "source": [
        "### The Calculus of Infinitesimals"
      ]
    },
    {
      "cell_type": "code",
      "metadata": {
        "id": "Bzug184ZcxYx"
      },
      "source": [
        "import numpy as np\n",
        "import matplotlib.pyplot as plt"
      ],
      "execution_count": 1,
      "outputs": []
    },
    {
      "cell_type": "code",
      "metadata": {
        "id": "Kgjg4q4kcxY1"
      },
      "source": [
        "x = np.linspace(-10, 10, 10000) # start, finish, n points"
      ],
      "execution_count": 2,
      "outputs": []
    },
    {
      "cell_type": "markdown",
      "metadata": {
        "id": "MHWrqwBacxY4"
      },
      "source": [
        "If $y = x^2 + 2x + 2$:"
      ]
    },
    {
      "cell_type": "code",
      "metadata": {
        "id": "y4oTgUY_cxY5"
      },
      "source": [
        "y = x**2 + 2*x + 2"
      ],
      "execution_count": 3,
      "outputs": []
    },
    {
      "cell_type": "code",
      "metadata": {
        "id": "5OxJjePDcxY8",
        "colab": {
          "base_uri": "https://localhost:8080/",
          "height": 430
        },
        "outputId": "196ecc55-5008-435f-bd39-e2f5b0b15b5a"
      },
      "source": [
        "fig, ax = plt.subplots()\n",
        "_ = ax.plot(x,y)"
      ],
      "execution_count": 4,
      "outputs": [
        {
          "output_type": "display_data",
          "data": {
            "text/plain": [
              "<Figure size 640x480 with 1 Axes>"
            ],
            "image/png": "[encoded data removed]"
          },
          "metadata": {}
        }
      ]
    },
    {
      "cell_type": "markdown",
      "metadata": {
        "id": "5IjlYM5LcxY_"
      },
      "source": [
        "* There are no straight lines on the curve.\n",
        "* If we zoom in _infinitely_ close, however, we observe curves that _approach_ lines.\n",
        "* This enables us to find a slope $m$ (tangent) anywhere on the curve, including to identify where $m = 0$:"
      ]
    },
    {
      "cell_type": "code",
      "metadata": {
        "id": "nJ1n043-cxZA",
        "colab": {
          "base_uri": "https://localhost:8080/",
          "height": 435
        },
        "outputId": "5984e0fd-d8ec-42f0-9a0d-5ba3d0f79467"
      },
      "source": [
        "fig, ax = plt.subplots()\n",
        "ax.set_xlim([-2, -0])\n",
        "ax.set_ylim([0, 2])\n",
        "_ = ax.plot(x,y)"
      ],
      "execution_count": 5,
      "outputs": [
        {
          "output_type": "display_data",
          "data": {
            "text/plain": [
              "<Figure size 640x480 with 1 Axes>"
            ],
            "image/png": "[encoded data removed]"
          },
          "metadata": {}
        }
      ]
    },
    {
      "cell_type": "code",
      "metadata": {
        "id": "tgrXcqfScxZD",
        "colab": {
          "base_uri": "https://localhost:8080/",
          "height": 430
        },
        "outputId": "59f54c3a-9dbb-4351-a600-a6f3a7f878a1"
      },
      "source": [
        "fig, ax = plt.subplots()\n",
        "ax.set_xlim([-1.5, -0.5])\n",
        "ax.set_ylim([0.5, 1.5])\n",
        "_ = ax.plot(x,y)"
      ],
      "execution_count": 6,
      "outputs": [
        {
          "output_type": "display_data",
          "data": {
            "text/plain": [
              "<Figure size 640x480 with 1 Axes>"
            ],
            "image/png": "[encoded data removed]"
          },
          "metadata": {}
        }
      ]
    },
    {
      "cell_type": "code",
      "metadata": {
        "id": "8osTRq2AcxZG",
        "colab": {
          "base_uri": "https://localhost:8080/",
          "height": 435
        },
        "outputId": "ae0c43f2-d373-4ed0-e377-5b384bcc5536"
      },
      "source": [
        "fig, ax = plt.subplots()\n",
        "ax.set_xlim([-1.1, -0.9])\n",
        "ax.set_ylim([0.9, 1.1])\n",
        "_ = ax.plot(x,y)"
      ],
      "execution_count": 7,
      "outputs": [
        {
          "output_type": "display_data",
          "data": {
            "text/plain": [
              "<Figure size 640x480 with 1 Axes>"
            ],
            "image/png": "[encoded data removed]"
          },
          "metadata": {}
        }
      ]
    },
    {
      "cell_type": "code",
      "metadata": {
        "id": "tpcDMwpDcxZJ",
        "colab": {
          "base_uri": "https://localhost:8080/",
          "height": 435
        },
        "outputId": "1d1a8593-96c2-47c5-c00b-5f6c6c60d4f3"
      },
      "source": [
        "fig, ax = plt.subplots()\n",
        "ax.set_xlim([-1.01, -0.99])\n",
        "ax.set_ylim([0.99, 1.01])\n",
        "_ = ax.plot(x,y)"
      ],
      "execution_count": 8,
      "outputs": [
        {
          "output_type": "display_data",
          "data": {
            "text/plain": [
              "<Figure size 640x480 with 1 Axes>"
            ],
            "image/png": "[encoded data removed]"
          },
          "metadata": {}
        }
      ]
    },
    {
      "cell_type": "markdown",
      "metadata": {
        "id": "BJ0B4YNPcxZL"
      },
      "source": [
        "**Return to slides here.**"
      ]
    },
    {
      "cell_type": "markdown",
      "metadata": {
        "id": "38-6wbQocxZL"
      },
      "source": [
        "### Limits"
      ]
    },
    {
      "cell_type": "code",
      "metadata": {
        "id": "S7GSdz-ucxZM",
        "colab": {
          "base_uri": "https://localhost:8080/",
          "height": 435
        },
        "outputId": "2a062818-eecd-4168-b2cb-12c7849710db"
      },
      "source": [
        "fig, ax = plt.subplots()\n",
        "plt.axvline(x=0, color='lightgray')\n",
        "plt.axhline(y=0, color='lightgray')\n",
        "plt.xlim(-5, 10)\n",
        "plt.ylim(-10, 80)\n",
        "plt.axvline(x=5, color='purple', linestyle='--')\n",
        "plt.axhline(y=37, color='purple', linestyle='--')\n",
        "_ = ax.plot(x,y)"
      ],
      "execution_count": 9,
      "outputs": [
        {
          "output_type": "display_data",
          "data": {
            "text/plain": [
              "<Figure size 640x480 with 1 Axes>"
            ],
            "image/png": "[encoded data removed]"
          },
          "metadata": {}
        }
      ]
    },
    {
      "cell_type": "markdown",
      "metadata": {
        "id": "AaRfRUYtcxZO"
      },
      "source": [
        "$$\\lim_{x \\to 1} \\frac{x^2 - 1}{x - 1}$$"
      ]
    },
    {
      "cell_type": "code",
      "metadata": {
        "id": "ZdDhpdiPcxZO"
      },
      "source": [
        "def my_fxn(my_x):\n",
        "    my_y = (my_x**2 - 1)/(my_x - 1)\n",
        "    return my_y"
      ],
      "execution_count": 10,
      "outputs": []
    },
    {
      "cell_type": "code",
      "metadata": {
        "id": "5xKbepf445LM",
        "colab": {
          "base_uri": "https://localhost:8080/"
        },
        "outputId": "1db5c754-719f-433c-a52e-3c23c8ec6b3a"
      },
      "source": [
        "my_fxn(2)"
      ],
      "execution_count": 11,
      "outputs": [
        {
          "output_type": "execute_result",
          "data": {
            "text/plain": [
              "3.0"
            ]
          },
          "metadata": {},
          "execution_count": 11
        }
      ]
    },
    {
      "cell_type": "code",
      "metadata": {
        "id": "umrgvf3BcxZQ"
      },
      "source": [
        "# Uncommenting the following line results in a 'division by zero' error:\n",
        "# my_fxn(1)"
      ],
      "execution_count": 12,
      "outputs": []
    },
    {
      "cell_type": "code",
      "metadata": {
        "id": "yeGqX8oscxZS",
        "colab": {
          "base_uri": "https://localhost:8080/"
        },
        "outputId": "9abbbab2-c8e8-4f7e-853f-80cb44fb70f2"
      },
      "source": [
        "my_fxn(0.9)"
      ],
      "execution_count": 13,
      "outputs": [
        {
          "output_type": "execute_result",
          "data": {
            "text/plain": [
              "1.9"
            ]
          },
          "metadata": {},
          "execution_count": 13
        }
      ]
    },
    {
      "cell_type": "code",
      "metadata": {
        "id": "4unTKbu8cxZU",
        "colab": {
          "base_uri": "https://localhost:8080/"
        },
        "outputId": "2f3829c0-ac79-4f01-951e-d16b5347dd66"
      },
      "source": [
        "my_fxn(0.999)"
      ],
      "execution_count": 14,
      "outputs": [
        {
          "output_type": "execute_result",
          "data": {
            "text/plain": [
              "1.9989999999999712"
            ]
          },
          "metadata": {},
          "execution_count": 14
        }
      ]
    },
    {
      "cell_type": "code",
      "metadata": {
        "id": "YuVfXKa5cxZW",
        "colab": {
          "base_uri": "https://localhost:8080/"
        },
        "outputId": "ce6ae556-9207-447c-ca0d-d78c1cdb9731"
      },
      "source": [
        "my_fxn(1.1)"
      ],
      "execution_count": 15,
      "outputs": [
        {
          "output_type": "execute_result",
          "data": {
            "text/plain": [
              "2.1"
            ]
          },
          "metadata": {},
          "execution_count": 15
        }
      ]
    },
    {
      "cell_type": "code",
      "metadata": {
        "id": "x4eY1qWEcxZY",
        "colab": {
          "base_uri": "https://localhost:8080/"
        },
        "outputId": "3082a832-4b59-421a-9cb3-ac116ce3c4b0"
      },
      "source": [
        "my_fxn(1.001)"
      ],
      "execution_count": 16,
      "outputs": [
        {
          "output_type": "execute_result",
          "data": {
            "text/plain": [
              "2.0009999999999177"
            ]
          },
          "metadata": {},
          "execution_count": 16
        }
      ]
    },
    {
      "cell_type": "code",
      "metadata": {
        "id": "pjUtPQwAcxZb"
      },
      "source": [
        "y = my_fxn(x)"
      ],
      "execution_count": 17,
      "outputs": []
    },
    {
      "cell_type": "code",
      "metadata": {
        "id": "Tg4Ow8k3cxZe",
        "colab": {
          "base_uri": "https://localhost:8080/",
          "height": 435
        },
        "outputId": "b1f74f16-33a0-4692-87ad-3fa8bb7c467b"
      },
      "source": [
        "fig, ax = plt.subplots()\n",
        "plt.axvline(x=0, color='lightgray')\n",
        "plt.axhline(y=0, color='lightgray')\n",
        "plt.xlim(-1, 5)\n",
        "plt.ylim(-1, 5)\n",
        "plt.axvline(x=1, color='purple', linestyle='--')\n",
        "plt.axhline(y=2, color='purple', linestyle='--')\n",
        "_ = ax.plot(x,y)"
      ],
      "execution_count": 18,
      "outputs": [
        {
          "output_type": "display_data",
          "data": {
            "text/plain": [
              "<Figure size 640x480 with 1 Axes>"
            ],
            "image/png": "[encoded data removed]"
          },
          "metadata": {}
        }
      ]
    },
    {
      "cell_type": "markdown",
      "metadata": {
        "id": "VQWYjKjVcxZf"
      },
      "source": [
        "**Return to slides here.**"
      ]
    },
    {
      "cell_type": "markdown",
      "metadata": {
        "id": "hc3PDahDcxZg"
      },
      "source": [
        "$$\\lim_{x \\to 0} \\frac{\\text{sin } x}{x}$$"
      ]
    },
    {
      "cell_type": "code",
      "metadata": {
        "id": "XDLZLagKcxZg"
      },
      "source": [
        "def sin_fxn(my_x):\n",
        "    my_y = np.sin(my_x)/my_x\n",
        "    return my_y"
      ],
      "execution_count": 19,
      "outputs": []
    },
    {
      "cell_type": "code",
      "metadata": {
        "id": "HU-B5ebBcxZi"
      },
      "source": [
        "# Uncommenting the following line results in a 'division by zero' error:\n",
        "# y = sin_fxn(0)"
      ],
      "execution_count": 20,
      "outputs": []
    },
    {
      "cell_type": "code",
      "metadata": {
        "id": "YjIqAWnwcxZk",
        "colab": {
          "base_uri": "https://localhost:8080/"
        },
        "outputId": "d306552f-eb3b-4863-dac7-180745d80fe2"
      },
      "source": [
        "sin_fxn(0.1)"
      ],
      "execution_count": 21,
      "outputs": [
        {
          "output_type": "execute_result",
          "data": {
            "text/plain": [
              "0.9983341664682815"
            ]
          },
          "metadata": {},
          "execution_count": 21
        }
      ]
    },
    {
      "cell_type": "code",
      "metadata": {
        "id": "mmTAnugUcxZm",
        "colab": {
          "base_uri": "https://localhost:8080/"
        },
        "outputId": "8fae69fa-f2dc-46be-881e-a0cdb6ef318c"
      },
      "source": [
        "sin_fxn(0.001)"
      ],
      "execution_count": 22,
      "outputs": [
        {
          "output_type": "execute_result",
          "data": {
            "text/plain": [
              "0.9999998333333416"
            ]
          },
          "metadata": {},
          "execution_count": 22
        }
      ]
    },
    {
      "cell_type": "code",
      "metadata": {
        "id": "UFM_c1t_cxZp",
        "colab": {
          "base_uri": "https://localhost:8080/"
        },
        "outputId": "3c1e9aae-19d5-48b2-e9a9-831d21a08ae3"
      },
      "source": [
        "sin_fxn(-0.1)"
      ],
      "execution_count": 23,
      "outputs": [
        {
          "output_type": "execute_result",
          "data": {
            "text/plain": [
              "0.9983341664682815"
            ]
          },
          "metadata": {},
          "execution_count": 23
        }
      ]
    },
    {
      "cell_type": "code",
      "metadata": {
        "id": "xrSXdv0ScxZr",
        "colab": {
          "base_uri": "https://localhost:8080/"
        },
        "outputId": "104d4c08-a433-44ab-b0d5-1592a6afcd22"
      },
      "source": [
        "sin_fxn(-0.001)"
      ],
      "execution_count": 24,
      "outputs": [
        {
          "output_type": "execute_result",
          "data": {
            "text/plain": [
              "0.9999998333333416"
            ]
          },
          "metadata": {},
          "execution_count": 24
        }
      ]
    },
    {
      "cell_type": "code",
      "metadata": {
        "id": "5nhhRmJTcxZs"
      },
      "source": [
        "y = sin_fxn(x)"
      ],
      "execution_count": 25,
      "outputs": []
    },
    {
      "cell_type": "code",
      "metadata": {
        "id": "bolWRmXmcxZu",
        "colab": {
          "base_uri": "https://localhost:8080/",
          "height": 435
        },
        "outputId": "a752ea1d-2a3b-43eb-a7cb-9df62531924a"
      },
      "source": [
        "fig, ax = plt.subplots()\n",
        "plt.axvline(x=0, color='lightgray')\n",
        "plt.axhline(y=0, color='lightgray')\n",
        "plt.xlim(-10, 10)\n",
        "plt.ylim(-1, 2)\n",
        "plt.axvline(x=0, color='purple', linestyle='--')\n",
        "plt.axhline(y=1, color='purple', linestyle='--')\n",
        "_ = ax.plot(x,y)"
      ],
      "execution_count": 26,
      "outputs": [
        {
          "output_type": "display_data",
          "data": {
            "text/plain": [
              "<Figure size 640x480 with 1 Axes>"
            ],
            "image/png": "[encoded data removed]"
          },
          "metadata": {}
        }
      ]
    },
    {
      "cell_type": "markdown",
      "metadata": {
        "id": "2OI8JVY6cxZw"
      },
      "source": [
        "**Return to slides here.**"
      ]
    },
    {
      "cell_type": "markdown",
      "metadata": {
        "id": "ly5b30kjcxZx"
      },
      "source": [
        "$$ \\lim_{x \\to \\infty} \\frac{25}{x} $$"
      ]
    },
    {
      "cell_type": "code",
      "metadata": {
        "id": "-WbP-XFncxZy"
      },
      "source": [
        "def inf_fxn(my_x):\n",
        "    my_y = 25/my_x\n",
        "    return my_y"
      ],
      "execution_count": 27,
      "outputs": []
    },
    {
      "cell_type": "code",
      "metadata": {
        "id": "C-35M67YcxZ3",
        "colab": {
          "base_uri": "https://localhost:8080/"
        },
        "outputId": "29d7579f-0d55-4140-e2fa-df4f1a616fe3"
      },
      "source": [
        "inf_fxn(1e3)"
      ],
      "execution_count": 28,
      "outputs": [
        {
          "output_type": "execute_result",
          "data": {
            "text/plain": [
              "0.025"
            ]
          },
          "metadata": {},
          "execution_count": 28
        }
      ]
    },
    {
      "cell_type": "code",
      "metadata": {
        "id": "jZ88FSTfcxZ5",
        "colab": {
          "base_uri": "https://localhost:8080/"
        },
        "outputId": "12a924fa-9f5b-4d8e-a862-11a787e91cd9"
      },
      "source": [
        "inf_fxn(1e6)"
      ],
      "execution_count": 29,
      "outputs": [
        {
          "output_type": "execute_result",
          "data": {
            "text/plain": [
              "2.5e-05"
            ]
          },
          "metadata": {},
          "execution_count": 29
        }
      ]
    },
    {
      "cell_type": "code",
      "metadata": {
        "id": "PwTJXJWWeDZT"
      },
      "source": [
        "y = inf_fxn(x)"
      ],
      "execution_count": 30,
      "outputs": []
    },
    {
      "cell_type": "code",
      "metadata": {
        "id": "AwwKi3RMeBjV",
        "colab": {
          "base_uri": "https://localhost:8080/",
          "height": 435
        },
        "outputId": "d8595229-5c68-4223-87d1-58f1c8f5012c"
      },
      "source": [
        "fig, ax = plt.subplots()\n",
        "plt.axvline(x=0, color='lightgray')\n",
        "plt.axhline(y=0, color='lightgray')\n",
        "plt.xlim(-10, 10)\n",
        "plt.ylim(-300, 300)\n",
        "_ = ax.plot(x, y)"
      ],
      "execution_count": 31,
      "outputs": [
        {
          "output_type": "display_data",
          "data": {
            "text/plain": [
              "<Figure size 640x480 with 1 Axes>"
            ],
            "image/png": "[encoded data removed]"
          },
          "metadata": {}
        }
      ]
    },
    {
      "cell_type": "code",
      "metadata": {
        "id": "2Rjoo4OKbmnB"
      },
      "source": [
        "left_x = x[x<0]\n",
        "right_x = x[x>0]"
      ],
      "execution_count": 32,
      "outputs": []
    },
    {
      "cell_type": "code",
      "metadata": {
        "id": "sb9QiH6vcxZ0"
      },
      "source": [
        "left_y = inf_fxn(left_x)\n",
        "right_y = inf_fxn(right_x)"
      ],
      "execution_count": 33,
      "outputs": []
    },
    {
      "cell_type": "code",
      "metadata": {
        "id": "vleskD0VcxZ7",
        "colab": {
          "base_uri": "https://localhost:8080/",
          "height": 435
        },
        "outputId": "d10840e5-0f3e-49d6-a429-94bb2c342020"
      },
      "source": [
        "fig, ax = plt.subplots()\n",
        "plt.axvline(x=0, color='lightgray')\n",
        "plt.axhline(y=0, color='lightgray')\n",
        "plt.xlim(-10, 10)\n",
        "plt.ylim(-300, 300)\n",
        "ax.plot(left_x, left_y, c='C0')\n",
        "_ = ax.plot(right_x, right_y, c='C0')"
      ],
      "execution_count": 34,
      "outputs": [
        {
          "output_type": "display_data",
          "data": {
            "text/plain": [
              "<Figure size 640x480 with 1 Axes>"
            ],
            "image/png": "[encoded data removed]"
          },
          "metadata": {}
        }
      ]
    },
    {
      "cell_type": "markdown",
      "metadata": {
        "id": "bA2xg33LcxZ8"
      },
      "source": [
        "**Exercises:**\n",
        "\n",
        "Evaluate the limits below using techniques from the slides or above.\n",
        "\n",
        "1. $$ \\lim_{x \\to 0} \\frac{x^2-1}{x-1} $$\n"
      ]
    },
    {
      "cell_type": "code",
      "source": [
        "def my_fxn(my_x):\n",
        "    my_y = (my_x**2 - 1)/(my_x - 1)\n",
        "    return my_y"
      ],
      "metadata": {
        "id": "g6U-KYRA8dsS"
      },
      "execution_count": 38,
      "outputs": []
    },
    {
      "cell_type": "code",
      "source": [
        "my_fxn(0)"
      ],
      "metadata": {
        "id": "6a40I8-g8_P6",
        "outputId": "04a6cc7f-3de9-4626-cd67-0d7b17823153",
        "colab": {
          "base_uri": "https://localhost:8080/"
        }
      },
      "execution_count": 39,
      "outputs": [
        {
          "output_type": "execute_result",
          "data": {
            "text/plain": [
              "1.0"
            ]
          },
          "metadata": {},
          "execution_count": 39
        }
      ]
    },
    {
      "cell_type": "code",
      "source": [
        "y = my_fxn(x)\n",
        "fig, ax = plt.subplots()\n",
        "plt.axvline(x=0, color='lightgray')\n",
        "plt.axhline(y=0, color='lightgray')\n",
        "plt.xlim(-1, 5)\n",
        "plt.ylim(-1, 5)\n",
        "plt.axvline(x=0, color='purple', linestyle='--')\n",
        "plt.axhline(y=1, color='purple', linestyle='--')\n",
        "_ = ax.plot(x,y)"
      ],
      "metadata": {
        "collapsed": true,
        "id": "AztWUot_89Ah",
        "outputId": "9f6b756f-d386-49bc-9f04-1e1781c96ed2",
        "colab": {
          "base_uri": "https://localhost:8080/",
          "height": 435
        }
      },
      "execution_count": 40,
      "outputs": [
        {
          "output_type": "display_data",
          "data": {
            "text/plain": [
              "<Figure size 640x480 with 1 Axes>"
            ],
            "image/png": "[encoded data removed]"
          },
          "metadata": {}
        }
      ]
    },
    {
      "cell_type": "markdown",
      "source": [
        "2. $$ \\lim_{x \\to -5} \\frac{x^2-25}{x+5} $$\n"
      ],
      "metadata": {
        "id": "Yke5M3Gm8MBr"
      }
    },
    {
      "cell_type": "code",
      "source": [
        "def my_fxn(my_x):\n",
        "    my_y = (my_x**2 - 25)/(my_x + 5)\n",
        "    return my_y"
      ],
      "metadata": {
        "id": "nDhcbVyX9jxJ"
      },
      "execution_count": 41,
      "outputs": []
    },
    {
      "cell_type": "code",
      "source": [
        "print(my_fxn(-4.9999))\n",
        "print(my_fxn(-5.0001))"
      ],
      "metadata": {
        "id": "KTeaXzlk9kCh",
        "outputId": "171b1cd8-2d4f-4404-f7c4-a11e147ae73d",
        "colab": {
          "base_uri": "https://localhost:8080/"
        }
      },
      "execution_count": 46,
      "outputs": [
        {
          "output_type": "stream",
          "name": "stdout",
          "text": [
            "-9.999899999991726\n",
            "-10.000100000008274\n"
          ]
        }
      ]
    },
    {
      "cell_type": "code",
      "source": [
        "y = my_fxn(x)\n",
        "fig, ax = plt.subplots()\n",
        "plt.axvline(x=0,color='lightgray')\n",
        "plt.axhline(y=0,color='lightgray')\n",
        "plt.xlim(-6,-4)\n",
        "plt.ylim(-11,-9)\n",
        "plt.axvline(x=-5, color='purple', linestyle='--')\n",
        "plt.axhline(y=-10, color='purple', linestyle='--')\n",
        "_ = ax.plot(x,y)\n"
      ],
      "metadata": {
        "id": "MeIXihYz9kPB",
        "outputId": "137041d5-5077-48e8-8766-0cf26ecc20bc",
        "colab": {
          "base_uri": "https://localhost:8080/",
          "height": 435
        }
      },
      "execution_count": 58,
      "outputs": [
        {
          "output_type": "display_data",
          "data": {
            "text/plain": [
              "<Figure size 640x480 with 1 Axes>"
            ],
            "image/png": "[encoded data removed]"
          },
          "metadata": {}
        }
      ]
    },
    {
      "cell_type": "markdown",
      "source": [
        "3. $$ \\lim_{x \\to 4} \\frac{x^2 -2x -8}{x-4} $$\n"
      ],
      "metadata": {
        "id": "hXWuh2qK8Nkh"
      }
    },
    {
      "cell_type": "code",
      "source": [
        "def my_fxn(my_x):\n",
        "  my_y = (my_x**2-2*my_x-8)/(my_x-4)\n",
        "  return my_y"
      ],
      "metadata": {
        "id": "vJL6Lpra_i20"
      },
      "execution_count": 59,
      "outputs": []
    },
    {
      "cell_type": "code",
      "source": [
        "print(my_fxn(3.999))\n",
        "print(my_fxn(4.001))"
      ],
      "metadata": {
        "id": "-jsWKzLW_z2r",
        "outputId": "b22b6125-eafd-4475-9ce4-2399c3c34068",
        "colab": {
          "base_uri": "https://localhost:8080/"
        }
      },
      "execution_count": 61,
      "outputs": [
        {
          "output_type": "stream",
          "name": "stdout",
          "text": [
            "5.999000000000748\n",
            "6.001000000001028\n"
          ]
        }
      ]
    },
    {
      "cell_type": "code",
      "source": [
        "y = my_fxn(x)\n",
        "fig, ax = plt.subplots()\n",
        "plt.axvline(x=0,color='lightgray')\n",
        "plt.axhline(y=0,color='lightgray')\n",
        "plt.xlim(2,6)\n",
        "plt.ylim(4,8)\n",
        "plt.axvline(x=4, color='purple', linestyle='--')\n",
        "plt.axhline(y=6, color='purple', linestyle='--')\n",
        "_ = ax.plot(x,y)"
      ],
      "metadata": {
        "id": "7H8rLp1jACCK",
        "outputId": "58d72822-e106-404f-a005-0d001fa7793d",
        "colab": {
          "base_uri": "https://localhost:8080/",
          "height": 435
        }
      },
      "execution_count": 62,
      "outputs": [
        {
          "output_type": "display_data",
          "data": {
            "text/plain": [
              "<Figure size 640x480 with 1 Axes>"
            ],
            "image/png": "[encoded data removed]"
          },
          "metadata": {}
        }
      ]
    },
    {
      "cell_type": "markdown",
      "source": [
        "4. $$ \\lim_{x \\to -\\infty} \\frac{25}{x} $$\n"
      ],
      "metadata": {
        "id": "KX_AGGCw8PMb"
      }
    },
    {
      "cell_type": "code",
      "source": [
        "def my_fxn(my_x):\n",
        "  my_y = (25)/(my_x)\n",
        "  return my_y"
      ],
      "metadata": {
        "id": "mQ773J48Aaum"
      },
      "execution_count": 63,
      "outputs": []
    },
    {
      "cell_type": "code",
      "source": [
        "print(my_fxn(-1e6))\n",
        "print(my_fxn(-1e9))"
      ],
      "metadata": {
        "id": "Ph8XjcLxAi39",
        "outputId": "310f2579-922f-4026-99c0-9551b0752ff8",
        "colab": {
          "base_uri": "https://localhost:8080/"
        }
      },
      "execution_count": 65,
      "outputs": [
        {
          "output_type": "stream",
          "name": "stdout",
          "text": [
            "-2.5e-05\n",
            "-2.5e-08\n"
          ]
        }
      ]
    },
    {
      "cell_type": "markdown",
      "source": [
        "moves closer to zero"
      ],
      "metadata": {
        "id": "Tpx3X05RBXuH"
      }
    },
    {
      "cell_type": "code",
      "source": [
        "left_x = x[x<0]\n",
        "right_x = x[x>0]\n",
        "\n",
        "left_y = my_fxn(left_x)\n",
        "right_y = my_fxn(right_x)\n",
        "fig, ax = plt.subplots()\n",
        "\n",
        "plt.axvline(x=0, color='lightgray')\n",
        "plt.axhline(y=0, color='lightgray')\n",
        "plt.xlim(-10, 10)\n",
        "plt.ylim(-300, 300)\n",
        "ax.plot(left_x, left_y, c='C0')\n",
        "_ = ax.plot(right_x, right_y, c='C0')"
      ],
      "metadata": {
        "id": "738BA7sCAwVC",
        "outputId": "14c27f38-d16c-4d05-b392-703eb7243c82",
        "colab": {
          "base_uri": "https://localhost:8080/",
          "height": 435
        }
      },
      "execution_count": 75,
      "outputs": [
        {
          "output_type": "display_data",
          "data": {
            "text/plain": [
              "<Figure size 640x480 with 1 Axes>"
            ],
            "image/png": "[encoded data removed]"
          },
          "metadata": {}
        }
      ]
    },
    {
      "cell_type": "markdown",
      "source": [
        "5. $$ \\lim_{x \\to 0} \\frac{25}{x} $$"
      ],
      "metadata": {
        "id": "aLoctMus8Qek"
      }
    },
    {
      "cell_type": "code",
      "source": [
        "print(my_fxn(0.00001))\n",
        "print(my_fxn(-0.00001))"
      ],
      "metadata": {
        "id": "YNp14jQ-CBlV",
        "outputId": "da25db74-5c7e-4b4e-dc4e-540bfa684f9e",
        "colab": {
          "base_uri": "https://localhost:8080/"
        }
      },
      "execution_count": 76,
      "outputs": [
        {
          "output_type": "stream",
          "name": "stdout",
          "text": [
            "2500000.0\n",
            "-2500000.0\n"
          ]
        }
      ]
    },
    {
      "cell_type": "code",
      "source": [
        "import sympy"
      ],
      "metadata": {
        "id": "pdRKb63qCPsZ"
      },
      "execution_count": 77,
      "outputs": []
    },
    {
      "cell_type": "code",
      "source": [
        "x_ = sympy.symbols('x')\n",
        "expr = 25/x_\n",
        "lim_pos = sympy.limit(expr, x_, 0, '+')\n",
        "print(\"Limit as x -> 0+:\", lim_pos)\n",
        "lim_neg = sympy.limit(expr, x_, 0, '-')\n",
        "print(\"Limit as x -> 0-:\", lim_neg)\n",
        "\n",
        "try:\n",
        "    lim = limit(expr, x, 0)\n",
        "    print(\"Limit as x -> 0:\", lim)\n",
        "except Exception as e:\n",
        "    print(\"Limit as x -> 0 does not exist:\", e)"
      ],
      "metadata": {
        "id": "rTHhR8lGCVOq",
        "outputId": "6fb3a927-b831-47dc-ba46-f95897c0b2a0",
        "colab": {
          "base_uri": "https://localhost:8080/"
        }
      },
      "execution_count": 81,
      "outputs": [
        {
          "output_type": "stream",
          "name": "stdout",
          "text": [
            "Limit as x -> 0+: oo\n",
            "Limit as x -> 0-: -oo\n",
            "Limit as x -> 0 does not exist: name 'limit' is not defined\n"
          ]
        }
      ]
    },
    {
      "cell_type": "markdown",
      "metadata": {
        "id": "zIhHIcmzLTQQ"
      },
      "source": [
        "FYI: While not necessary for ML nor for this *ML Foundations* curriculum, the `SymPy` [symbolic mathematics library](https://www.sympy.org/en/index.html) includes a `limits()` method. You can read about applying it to evaluate limits of expressions [here](https://www.geeksforgeeks.org/python-sympy-limit-method/)."
      ]
    },
    {
      "cell_type": "markdown",
      "metadata": {
        "id": "AbAn1ChdcxZ9"
      },
      "source": [
        "**Return to slides here.**"
      ]
    },
    {
      "cell_type": "markdown",
      "metadata": {
        "id": "e7cnhfOYcxZ9"
      },
      "source": [
        "## Segment 2: Computing Derivatives with Differentiation"
      ]
    },
    {
      "cell_type": "markdown",
      "metadata": {
        "id": "CDn8BeCDcxZ9"
      },
      "source": [
        "Let's bring back our ol' buddy $y = x^2 + 2x + 2$:"
      ]
    },
    {
      "cell_type": "code",
      "metadata": {
        "id": "Dk2EXlqccxZ-"
      },
      "source": [
        "def f(my_x):\n",
        "    my_y = my_x**2 + 2*my_x + 2\n",
        "    return my_y"
      ],
      "execution_count": null,
      "outputs": []
    },
    {
      "cell_type": "code",
      "metadata": {
        "id": "SLmyyYdEcxaA"
      },
      "source": [
        "y = f(x)"
      ],
      "execution_count": null,
      "outputs": []
    },
    {
      "cell_type": "code",
      "metadata": {
        "id": "eNIlXWeQcxaC",
        "colab": {
          "base_uri": "https://localhost:8080/",
          "height": 265
        },
        "outputId": "0fef978e-f7ed-40cc-e353-2759a0297b73"
      },
      "source": [
        "fig, ax = plt.subplots()\n",
        "plt.axvline(x=0, color='lightgray')\n",
        "plt.axhline(y=0, color='lightgray')\n",
        "_ = ax.plot(x,y)"
      ],
      "execution_count": null,
      "outputs": [
        {
          "output_type": "display_data",
          "data": {
            "image/png": "[encoded data removed]",
            "text/plain": [
              "<Figure size 432x288 with 1 Axes>"
            ]
          },
          "metadata": {
            "tags": [],
            "needs_background": "light"
          }
        }
      ]
    },
    {
      "cell_type": "markdown",
      "metadata": {
        "id": "h7C7nPEhcxaD"
      },
      "source": [
        "Let's identify the slope where, say, $x = 2$."
      ]
    },
    {
      "cell_type": "markdown",
      "metadata": {
        "id": "DeVa3RrtcxaE"
      },
      "source": [
        "First, let's determine what $y$ is:"
      ]
    },
    {
      "cell_type": "code",
      "metadata": {
        "id": "hz5oolNEcxaE",
        "colab": {
          "base_uri": "https://localhost:8080/"
        },
        "outputId": "8dd78728-b4ed-49d6-fc05-f5a65bbc7bed"
      },
      "source": [
        "f(2)"
      ],
      "execution_count": null,
      "outputs": [
        {
          "output_type": "execute_result",
          "data": {
            "text/plain": [
              "10"
            ]
          },
          "metadata": {
            "tags": []
          },
          "execution_count": 38
        }
      ]
    },
    {
      "cell_type": "markdown",
      "metadata": {
        "id": "7fkzBRR5cxaF"
      },
      "source": [
        "Cool. Let's call this point $P$, which is located at (2, 10):"
      ]
    },
    {
      "cell_type": "code",
      "metadata": {
        "id": "IOI2oxj2cxaG",
        "colab": {
          "base_uri": "https://localhost:8080/",
          "height": 265
        },
        "outputId": "f60d568f-c926-4a70-d5ca-2783fc50082c"
      },
      "source": [
        "fig, ax = plt.subplots()\n",
        "plt.axvline(x=0, color='lightgray')\n",
        "plt.axhline(y=0, color='lightgray')\n",
        "plt.scatter(2, 10) # new\n",
        "_ = ax.plot(x,y)"
      ],
      "execution_count": null,
      "outputs": [
        {
          "output_type": "display_data",
          "data": {
            "image/png": "[encoded data removed]",
            "text/plain": [
              "<Figure size 432x288 with 1 Axes>"
            ]
          },
          "metadata": {
            "tags": [],
            "needs_background": "light"
          }
        }
      ]
    },
    {
      "cell_type": "markdown",
      "metadata": {
        "id": "PPCiF6CacxaI"
      },
      "source": [
        "The _delta method_ uses the difference between two points to calculate slope. To illustrate this, let's define another point, $Q$ where, say, $x = 5$."
      ]
    },
    {
      "cell_type": "code",
      "metadata": {
        "id": "YAP0LJnxcxaI",
        "colab": {
          "base_uri": "https://localhost:8080/"
        },
        "outputId": "7d340508-1c97-4d88-bcb9-cf48bdcac524"
      },
      "source": [
        "f(5)"
      ],
      "execution_count": null,
      "outputs": [
        {
          "output_type": "execute_result",
          "data": {
            "text/plain": [
              "37"
            ]
          },
          "metadata": {
            "tags": []
          },
          "execution_count": 40
        }
      ]
    },
    {
      "cell_type": "code",
      "metadata": {
        "id": "usfMMyTvcxaK",
        "colab": {
          "base_uri": "https://localhost:8080/",
          "height": 265
        },
        "outputId": "a11a27e7-704c-4819-b920-cd0813f8b86a"
      },
      "source": [
        "fig, ax = plt.subplots()\n",
        "plt.axvline(x=0, color='lightgray')\n",
        "plt.axhline(y=0, color='lightgray')\n",
        "plt.scatter(2, 10)\n",
        "plt.scatter(5, 37, c = 'orange', zorder=3) # new\n",
        "_ = ax.plot(x,y)"
      ],
      "execution_count": null,
      "outputs": [
        {
          "output_type": "display_data",
          "data": {
            "image/png": "[encoded data removed]",
            "text/plain": [
              "<Figure size 432x288 with 1 Axes>"
            ]
          },
          "metadata": {
            "tags": [],
            "needs_background": "light"
          }
        }
      ]
    },
    {
      "cell_type": "markdown",
      "metadata": {
        "id": "kdony9sucxaM"
      },
      "source": [
        "To find the slope $m$ between points $P$ and $Q$:\n",
        "$$m = \\frac{\\text{change in }y}{\\text{change in }x} = \\frac{\\Delta y}{\\Delta x} = \\frac{y_2 - y_1}{x_2 - x_1} = \\frac{37-10}{5-2} = \\frac{27}{3} = 9$$"
      ]
    },
    {
      "cell_type": "code",
      "metadata": {
        "id": "kgoU-_wzcxaM",
        "colab": {
          "base_uri": "https://localhost:8080/"
        },
        "outputId": "a44c6af7-fe97-4a90-fafa-7228c5b44982"
      },
      "source": [
        "m = (37-10)/(5-2)\n",
        "m"
      ],
      "execution_count": null,
      "outputs": [
        {
          "output_type": "execute_result",
          "data": {
            "text/plain": [
              "9.0"
            ]
          },
          "metadata": {
            "tags": []
          },
          "execution_count": 42
        }
      ]
    },
    {
      "cell_type": "markdown",
      "metadata": {
        "id": "ZWtSUfLVcxaP"
      },
      "source": [
        "To plot the line that passes through $P$ and $Q$, we can rearrange the equation of a line $y = mx + b$ to solve for $b$:\n",
        "$$b = y - mx$$"
      ]
    },
    {
      "cell_type": "code",
      "metadata": {
        "id": "UuYXrltscxaP",
        "colab": {
          "base_uri": "https://localhost:8080/"
        },
        "outputId": "4aa81301-d991-4288-d314-2ea828c8f53a"
      },
      "source": [
        "b = 37-m*5\n",
        "b"
      ],
      "execution_count": null,
      "outputs": [
        {
          "output_type": "execute_result",
          "data": {
            "text/plain": [
              "-8.0"
            ]
          },
          "metadata": {
            "tags": []
          },
          "execution_count": 43
        }
      ]
    },
    {
      "cell_type": "code",
      "metadata": {
        "id": "AwawB1LLcxaR"
      },
      "source": [
        "line_y = m*x + b"
      ],
      "execution_count": null,
      "outputs": []
    },
    {
      "cell_type": "code",
      "metadata": {
        "id": "Lkg2Bl7TcxaT",
        "colab": {
          "base_uri": "https://localhost:8080/",
          "height": 265
        },
        "outputId": "89e9c6a9-5e5b-45b7-8091-98a09f1ae21f"
      },
      "source": [
        "fig, ax = plt.subplots()\n",
        "plt.axvline(x=0, color='lightgray')\n",
        "plt.axhline(y=0, color='lightgray')\n",
        "plt.scatter(2, 10)\n",
        "plt.scatter(5, 37, c='orange', zorder=3)\n",
        "plt.ylim(-5, 150) # new\n",
        "plt.plot(x, line_y, c='orange') # new\n",
        "_ = ax.plot(x,y)"
      ],
      "execution_count": null,
      "outputs": [
        {
          "output_type": "display_data",
          "data": {
            "image/png": "[encoded data removed]",
            "text/plain": [
              "<Figure size 432x288 with 1 Axes>"
            ]
          },
          "metadata": {
            "tags": [],
            "needs_background": "light"
          }
        }
      ]
    },
    {
      "cell_type": "markdown",
      "metadata": {
        "id": "RGEaUT_OcxaV"
      },
      "source": [
        "The closer $Q$ becomes to $P$, the closer the slope $m$ comes to being the true tangent of the point $P$. Let's demonstrate this with another point $Q$ at $x = 2.1$."
      ]
    },
    {
      "cell_type": "markdown",
      "metadata": {
        "id": "xWAJUiEbcxaV"
      },
      "source": [
        "Previously, our $\\Delta x$ between $Q$ and $P$ was equal to 3. Now it is much smaller: $$\\Delta x = x_2 - x_1 = 2.1 - 2 = 0.1 $$"
      ]
    },
    {
      "cell_type": "code",
      "metadata": {
        "id": "-XDEG_o7cxaV",
        "colab": {
          "base_uri": "https://localhost:8080/"
        },
        "outputId": "6c6c7666-257b-405c-eaac-0cb721957e53"
      },
      "source": [
        "f(2.1)"
      ],
      "execution_count": null,
      "outputs": [
        {
          "output_type": "execute_result",
          "data": {
            "text/plain": [
              "10.61"
            ]
          },
          "metadata": {
            "tags": []
          },
          "execution_count": 46
        }
      ]
    },
    {
      "cell_type": "code",
      "metadata": {
        "id": "85n3ApTmcxaX",
        "colab": {
          "base_uri": "https://localhost:8080/",
          "height": 265
        },
        "outputId": "9ac2ffd7-8eaf-40c3-e815-d87ae6b783c3"
      },
      "source": [
        "fig, ax = plt.subplots()\n",
        "plt.axvline(x=0, color='lightgray')\n",
        "plt.axhline(y=0, color='lightgray')\n",
        "plt.scatter(2, 10)\n",
        "plt.scatter(2.1, 10.61, c = 'orange', zorder=3)\n",
        "_ = ax.plot(x,y)"
      ],
      "execution_count": null,
      "outputs": [
        {
          "output_type": "display_data",
          "data": {
            "image/png": "[encoded data removed]",
            "text/plain": [
              "<Figure size 432x288 with 1 Axes>"
            ]
          },
          "metadata": {
            "tags": [],
            "needs_background": "light"
          }
        }
      ]
    },
    {
      "cell_type": "code",
      "metadata": {
        "id": "YlWhoumBcxaY",
        "colab": {
          "base_uri": "https://localhost:8080/"
        },
        "outputId": "5edba389-0ca7-4d46-dd51-076c0a3e2622"
      },
      "source": [
        "m = (10.61-10)/(2.1-2)\n",
        "m"
      ],
      "execution_count": null,
      "outputs": [
        {
          "output_type": "execute_result",
          "data": {
            "text/plain": [
              "6.099999999999989"
            ]
          },
          "metadata": {
            "tags": []
          },
          "execution_count": 48
        }
      ]
    },
    {
      "cell_type": "code",
      "metadata": {
        "id": "KHMZNdjQcxaa",
        "colab": {
          "base_uri": "https://localhost:8080/"
        },
        "outputId": "a49f1b35-05c4-402f-fcf2-bb666a3c5a9c"
      },
      "source": [
        "b = 10.61-m*2.1\n",
        "b"
      ],
      "execution_count": null,
      "outputs": [
        {
          "output_type": "execute_result",
          "data": {
            "text/plain": [
              "-2.199999999999978"
            ]
          },
          "metadata": {
            "tags": []
          },
          "execution_count": 49
        }
      ]
    },
    {
      "cell_type": "code",
      "metadata": {
        "id": "J1-_0DBJcxab"
      },
      "source": [
        "line_y = m*x + b"
      ],
      "execution_count": null,
      "outputs": []
    },
    {
      "cell_type": "code",
      "metadata": {
        "id": "eDtjdRYQcxad",
        "colab": {
          "base_uri": "https://localhost:8080/",
          "height": 265
        },
        "outputId": "aab8a88c-df28-4d2e-e5f9-79bcf70942c9"
      },
      "source": [
        "fig, ax = plt.subplots()\n",
        "plt.axvline(x=0, color='lightgray')\n",
        "plt.axhline(y=0, color='lightgray')\n",
        "plt.scatter(2, 10)\n",
        "plt.scatter(2.1, 10.61, c='orange', zorder=3)\n",
        "plt.ylim(-5, 150)\n",
        "plt.plot(x, line_y, c='orange', zorder=3)\n",
        "_ = ax.plot(x,y)"
      ],
      "execution_count": null,
      "outputs": [
        {
          "output_type": "display_data",
          "data": {
            "image/png": "[encoded data removed]",
            "text/plain": [
              "<Figure size 432x288 with 1 Axes>"
            ]
          },
          "metadata": {
            "tags": [],
            "needs_background": "light"
          }
        }
      ]
    },
    {
      "cell_type": "markdown",
      "metadata": {
        "id": "elxPRnoTcxae"
      },
      "source": [
        "The closer $Q$ becomes to $P$ (i.e., $\\Delta x$ approaches 0), the clearer it becomes that the slope $m$ at point $P$ = (2, 10) is equal to 6."
      ]
    },
    {
      "cell_type": "markdown",
      "metadata": {
        "id": "srMjU62xcxaf"
      },
      "source": [
        "Let's make $\\Delta x$ extremely small, 0.000001, to illustrate this:"
      ]
    },
    {
      "cell_type": "code",
      "metadata": {
        "id": "c_B0wY47cxaf",
        "colab": {
          "base_uri": "https://localhost:8080/"
        },
        "outputId": "88d748a1-8ae1-4913-f995-82c03f61ab87"
      },
      "source": [
        "delta_x = 0.000001\n",
        "delta_x"
      ],
      "execution_count": null,
      "outputs": [
        {
          "output_type": "execute_result",
          "data": {
            "text/plain": [
              "1e-06"
            ]
          },
          "metadata": {
            "tags": []
          },
          "execution_count": 52
        }
      ]
    },
    {
      "cell_type": "code",
      "metadata": {
        "id": "g8LSgemacxai"
      },
      "source": [
        "x1 = 2\n",
        "y1 = 10"
      ],
      "execution_count": null,
      "outputs": []
    },
    {
      "cell_type": "markdown",
      "metadata": {
        "id": "gsa2I2Jxcxaj"
      },
      "source": [
        "Rearranging $\\Delta x = x_2 - x_1$, we can calculate $x_2$ for our point $Q$, which is now extremely close to $P$:\n",
        "$$x_2 = x_1 + \\Delta x$$"
      ]
    },
    {
      "cell_type": "code",
      "metadata": {
        "id": "4PgqVCZVcxak",
        "colab": {
          "base_uri": "https://localhost:8080/"
        },
        "outputId": "9efbfa02-c14b-416a-da25-d7e07c44e1ed"
      },
      "source": [
        "x2 = x1 + delta_x\n",
        "x2"
      ],
      "execution_count": null,
      "outputs": [
        {
          "output_type": "execute_result",
          "data": {
            "text/plain": [
              "2.000001"
            ]
          },
          "metadata": {
            "tags": []
          },
          "execution_count": 54
        }
      ]
    },
    {
      "cell_type": "markdown",
      "metadata": {
        "id": "FoBqhu1zcxan"
      },
      "source": [
        "$y_2$ for our point $Q$ can be obtained with the usual function $f(x)$:\n",
        "$$y_2 = f(x_2)$$"
      ]
    },
    {
      "cell_type": "code",
      "metadata": {
        "id": "9_2mjm1Ycxan",
        "colab": {
          "base_uri": "https://localhost:8080/"
        },
        "outputId": "8d908d59-7e94-4648-8867-9950ea7b3661"
      },
      "source": [
        "y2 = f(x2)\n",
        "y2"
      ],
      "execution_count": null,
      "outputs": [
        {
          "output_type": "execute_result",
          "data": {
            "text/plain": [
              "10.000006000001001"
            ]
          },
          "metadata": {
            "tags": []
          },
          "execution_count": 55
        }
      ]
    },
    {
      "cell_type": "markdown",
      "metadata": {
        "id": "Eekls7AIcxap"
      },
      "source": [
        "To find the slope $m$, we continue to use $$m = \\frac{\\Delta y}{\\Delta x} = \\frac{y_2 - y_1}{x_2 - x_1}$$"
      ]
    },
    {
      "cell_type": "code",
      "metadata": {
        "id": "yQAwKXPUcxap",
        "colab": {
          "base_uri": "https://localhost:8080/"
        },
        "outputId": "c07ba5e1-2cec-489f-aa71-3a40db79f0b7"
      },
      "source": [
        "m = (y2 - y1)/(x2 - x1)\n",
        "m"
      ],
      "execution_count": null,
      "outputs": [
        {
          "output_type": "execute_result",
          "data": {
            "text/plain": [
              "6.000001000088901"
            ]
          },
          "metadata": {
            "tags": []
          },
          "execution_count": 56
        }
      ]
    },
    {
      "cell_type": "markdown",
      "metadata": {
        "id": "IEy7jMVpcxar"
      },
      "source": [
        "Boom! Using the delta method, we've shown that at point $P$, the slope of the curve is 6."
      ]
    },
    {
      "cell_type": "markdown",
      "metadata": {
        "id": "GJ7bRkBvcxar"
      },
      "source": [
        "**Exercise**: Using the delta method, find the slope of the tangent where $x = -1$."
      ]
    },
    {
      "cell_type": "markdown",
      "metadata": {
        "id": "pV8Vpgvdcxar"
      },
      "source": [
        "**Spoiler alert! The solution's below.**"
      ]
    },
    {
      "cell_type": "code",
      "metadata": {
        "id": "65FeJSRocxaz"
      },
      "source": [
        "x1 = -1"
      ],
      "execution_count": null,
      "outputs": []
    },
    {
      "cell_type": "code",
      "metadata": {
        "id": "fAIGLk8Mcxa0",
        "colab": {
          "base_uri": "https://localhost:8080/"
        },
        "outputId": "85a2864a-dc7a-45a1-fce9-1fc164ab90fe"
      },
      "source": [
        "y1 = f(x1)\n",
        "y1"
      ],
      "execution_count": null,
      "outputs": [
        {
          "output_type": "execute_result",
          "data": {
            "text/plain": [
              "1"
            ]
          },
          "metadata": {
            "tags": []
          },
          "execution_count": 58
        }
      ]
    },
    {
      "cell_type": "markdown",
      "metadata": {
        "id": "SZowMdIQcxa1"
      },
      "source": [
        "Point $P$ is located at (-1, 1)"
      ]
    },
    {
      "cell_type": "code",
      "metadata": {
        "id": "-CPHl783cxa1",
        "colab": {
          "base_uri": "https://localhost:8080/"
        },
        "outputId": "e74a4347-652e-4e40-a7e1-83f87a51f776"
      },
      "source": [
        "delta_x"
      ],
      "execution_count": null,
      "outputs": [
        {
          "output_type": "execute_result",
          "data": {
            "text/plain": [
              "1e-06"
            ]
          },
          "metadata": {
            "tags": []
          },
          "execution_count": 59
        }
      ]
    },
    {
      "cell_type": "code",
      "metadata": {
        "id": "jzw0J1n9cxa2",
        "colab": {
          "base_uri": "https://localhost:8080/"
        },
        "outputId": "53c6056e-caec-4c33-fe0b-8369ec1cc0bd"
      },
      "source": [
        "x2 = x1 + delta_x\n",
        "x2"
      ],
      "execution_count": null,
      "outputs": [
        {
          "output_type": "execute_result",
          "data": {
            "text/plain": [
              "-0.999999"
            ]
          },
          "metadata": {
            "tags": []
          },
          "execution_count": 60
        }
      ]
    },
    {
      "cell_type": "code",
      "metadata": {
        "id": "WaynVKiwcxa3",
        "colab": {
          "base_uri": "https://localhost:8080/"
        },
        "outputId": "f5c682ad-93bb-49b2-f171-952f521e45c9"
      },
      "source": [
        "y2 = f(x2)\n",
        "y2"
      ],
      "execution_count": null,
      "outputs": [
        {
          "output_type": "execute_result",
          "data": {
            "text/plain": [
              "1.000000000001"
            ]
          },
          "metadata": {
            "tags": []
          },
          "execution_count": 61
        }
      ]
    },
    {
      "cell_type": "markdown",
      "metadata": {
        "id": "rApig2ipcxa4"
      },
      "source": [
        "Quick aside: Pertinent to defining differentiation as an equation, an alternative way to calculate $y_2$ is $f(x + \\Delta x)$"
      ]
    },
    {
      "cell_type": "code",
      "metadata": {
        "id": "yCW283sZcxa4",
        "colab": {
          "base_uri": "https://localhost:8080/"
        },
        "outputId": "87008c5f-0184-4262-edc4-b571d533f2c4"
      },
      "source": [
        "y2 = f(x1 + delta_x)\n",
        "y2"
      ],
      "execution_count": null,
      "outputs": [
        {
          "output_type": "execute_result",
          "data": {
            "text/plain": [
              "1.000000000001"
            ]
          },
          "metadata": {
            "tags": []
          },
          "execution_count": 62
        }
      ]
    },
    {
      "cell_type": "markdown",
      "metadata": {
        "id": "S1Dr3Ankcxa7"
      },
      "source": [
        "Point $Q$ is at (-0.999999, 1.000000000001), extremely close to $P$."
      ]
    },
    {
      "cell_type": "code",
      "metadata": {
        "id": "ZtokXlMncxa7",
        "colab": {
          "base_uri": "https://localhost:8080/"
        },
        "outputId": "676f0135-60cc-44b1-f1c0-adaf6def3395"
      },
      "source": [
        "m = (y2-y1)/(x2-x1)\n",
        "m"
      ],
      "execution_count": null,
      "outputs": [
        {
          "output_type": "execute_result",
          "data": {
            "text/plain": [
              "1.0000889005535828e-06"
            ]
          },
          "metadata": {
            "tags": []
          },
          "execution_count": 63
        }
      ]
    },
    {
      "cell_type": "markdown",
      "metadata": {
        "id": "91slg8F4cxa8"
      },
      "source": [
        "Therefore, as $x_2$ becomes infinitely close to $x_1$, it becomes clear that the slope $m$ at $x_1 = -1$ is equal to zero. Let's plot it out:"
      ]
    },
    {
      "cell_type": "code",
      "metadata": {
        "id": "2WToJBOhcxa8",
        "colab": {
          "base_uri": "https://localhost:8080/"
        },
        "outputId": "722eab24-e3da-4180-9e51-ac003be91f41"
      },
      "source": [
        "b = y2-m*x2\n",
        "b"
      ],
      "execution_count": null,
      "outputs": [
        {
          "output_type": "execute_result",
          "data": {
            "text/plain": [
              "1.0000010000889006"
            ]
          },
          "metadata": {
            "tags": []
          },
          "execution_count": 64
        }
      ]
    },
    {
      "cell_type": "code",
      "metadata": {
        "id": "ah0cXRhrcxa9"
      },
      "source": [
        "line_y = m*x + b"
      ],
      "execution_count": null,
      "outputs": []
    },
    {
      "cell_type": "code",
      "metadata": {
        "id": "MjLttDg9cxa-",
        "colab": {
          "base_uri": "https://localhost:8080/",
          "height": 265
        },
        "outputId": "e3827009-0d8f-46a1-81cd-c2425c2b308b"
      },
      "source": [
        "fig, ax = plt.subplots()\n",
        "plt.axvline(x=0, color='lightgray')\n",
        "plt.axhline(y=0, color='lightgray')\n",
        "plt.scatter(x1, y1)\n",
        "plt.scatter(x2, y2, c='orange', zorder=3)\n",
        "plt.ylim(-5, 150)\n",
        "plt.plot(x, line_y, c='orange', zorder=3)\n",
        "_ = ax.plot(x,y)"
      ],
      "execution_count": null,
      "outputs": [
        {
          "output_type": "display_data",
          "data": {
            "image/png": "[encoded data removed]",
            "text/plain": [
              "<Figure size 432x288 with 1 Axes>"
            ]
          },
          "metadata": {
            "tags": [],
            "needs_background": "light"
          }
        }
      ]
    },
    {
      "cell_type": "markdown",
      "metadata": {
        "id": "hqmMtmpGcxbA"
      },
      "source": [
        "As $Q$ becomes infinitely close to $P$:\n",
        "* $x_2$ - $x_1$ approaches 0\n",
        "* In other words, $\\Delta x$ approaches 0\n",
        "* This can be denoted as $\\Delta x \\to 0$"
      ]
    },
    {
      "cell_type": "markdown",
      "metadata": {
        "id": "nsh_7o7kcxbA"
      },
      "source": [
        "Using the delta method, we've derived the definition of differentiation from first principles. The derivative of $y$ (denoted $dy$) with respect to $x$ (denoted $dx$) can be represented as:\n",
        "$$\\frac{dy}{dx} = \\lim_{\\Delta x \\to 0} \\frac{\\Delta y}{\\Delta x}$$"
      ]
    },
    {
      "cell_type": "markdown",
      "metadata": {
        "id": "UxuWTEKlcxbA"
      },
      "source": [
        "Expanding $\\Delta y$ out to $y_2 - y_1$:\n",
        "$$\\frac{dy}{dx} = \\lim_{\\Delta x \\to 0} \\frac{y_2 - y_1}{\\Delta x}$$"
      ]
    },
    {
      "cell_type": "markdown",
      "metadata": {
        "id": "b0H4kFkYcxbB"
      },
      "source": [
        "Finally, replacing $y_1$ with $f(x)$ and replacing $y_2$ with $f(x + \\Delta x)$, we obtain a common representation of differentiation:\n",
        "$$\\frac{dy}{dx} = \\lim_{\\Delta x \\to 0} \\frac{f(x + \\Delta x) - f(x)}{\\Delta x}$$"
      ]
    },
    {
      "cell_type": "markdown",
      "metadata": {
        "id": "SuYWQ9e1cxbB"
      },
      "source": [
        "Let's observe the differentiation equation in action:"
      ]
    },
    {
      "cell_type": "code",
      "metadata": {
        "id": "Do6EHZfHcxbB"
      },
      "source": [
        "def diff_demo(my_f, my_x, my_delta):\n",
        "    return (my_f(my_x + my_delta) - my_f(my_x)) / my_delta"
      ],
      "execution_count": null,
      "outputs": []
    },
    {
      "cell_type": "code",
      "metadata": {
        "id": "hXbAgWvrcxbC"
      },
      "source": [
        "deltas = [1, 0.1, 0.01, 0.001, 0.0001, 0.00001, 0.000001]"
      ],
      "execution_count": null,
      "outputs": []
    },
    {
      "cell_type": "code",
      "metadata": {
        "id": "iYtlA3S5cxbD",
        "colab": {
          "base_uri": "https://localhost:8080/"
        },
        "outputId": "ea82a37a-e15a-4343-ccd1-73e459070f08"
      },
      "source": [
        "for delta in deltas:\n",
        "    print(diff_demo(f, 2, delta))"
      ],
      "execution_count": null,
      "outputs": [
        {
          "output_type": "stream",
          "text": [
            "7.0\n",
            "6.099999999999994\n",
            "6.009999999999849\n",
            "6.000999999999479\n",
            "6.000100000012054\n",
            "6.000009999951316\n",
            "6.000001000927568\n"
          ],
          "name": "stdout"
        }
      ]
    },
    {
      "cell_type": "code",
      "metadata": {
        "id": "CMW45DQmcxbF",
        "scrolled": true,
        "colab": {
          "base_uri": "https://localhost:8080/"
        },
        "outputId": "307410ee-4154-4b91-f9a3-ff6263557a38"
      },
      "source": [
        "for delta in deltas:\n",
        "    print(diff_demo(f, -1, delta))"
      ],
      "execution_count": null,
      "outputs": [
        {
          "output_type": "stream",
          "text": [
            "1.0\n",
            "0.10000000000000009\n",
            "0.009999999999998899\n",
            "0.001000000000139778\n",
            "9.99999993922529e-05\n",
            "1.000000082740371e-05\n",
            "1.000088900582341e-06\n"
          ],
          "name": "stdout"
        }
      ]
    },
    {
      "cell_type": "markdown",
      "metadata": {
        "id": "Kh8vawMMcxbG"
      },
      "source": [
        "**Return to slides here.**"
      ]
    },
    {
      "cell_type": "markdown",
      "metadata": {
        "id": "Ez8pKj_lcxbG"
      },
      "source": [
        "## Segment 3: Automatic Differentiation"
      ]
    },
    {
      "cell_type": "markdown",
      "metadata": {
        "id": "laWM6cgvcxbG"
      },
      "source": [
        "**TensorFlow** and **PyTorch** are the two most popular automatic differentiation libraries."
      ]
    },
    {
      "cell_type": "markdown",
      "metadata": {
        "id": "RLi7jwLEzaDB"
      },
      "source": [
        "Let's use them to calculate $dy/dx$ at $x = 5$ where:"
      ]
    },
    {
      "cell_type": "markdown",
      "metadata": {
        "id": "qmgeCDWycxbL"
      },
      "source": [
        "$$y = x^2$$"
      ]
    },
    {
      "cell_type": "markdown",
      "metadata": {
        "id": "MhMxT9oQcxbL"
      },
      "source": [
        "$$ \\frac{dy}{dx} = 2x = 2(5) = 10 $$"
      ]
    },
    {
      "cell_type": "markdown",
      "metadata": {
        "id": "Zg-PepdncxbN"
      },
      "source": [
        "### Autodiff with PyTorch"
      ]
    },
    {
      "cell_type": "code",
      "metadata": {
        "id": "n8FJ1OkWcxbN"
      },
      "source": [
        "import torch"
      ],
      "execution_count": null,
      "outputs": []
    },
    {
      "cell_type": "code",
      "metadata": {
        "id": "DTYVufujcxbP"
      },
      "source": [
        "x = torch.tensor(5.0)"
      ],
      "execution_count": null,
      "outputs": []
    },
    {
      "cell_type": "code",
      "metadata": {
        "id": "13j9vFZgcxbP",
        "colab": {
          "base_uri": "https://localhost:8080/"
        },
        "outputId": "982fb7b9-cd4a-4d6d-dcfb-397626d30ca5"
      },
      "source": [
        "x"
      ],
      "execution_count": null,
      "outputs": [
        {
          "output_type": "execute_result",
          "data": {
            "text/plain": [
              "tensor(5.)"
            ]
          },
          "metadata": {
            "tags": []
          },
          "execution_count": 73
        }
      ]
    },
    {
      "cell_type": "code",
      "metadata": {
        "id": "PBLvpsCWcxbQ",
        "colab": {
          "base_uri": "https://localhost:8080/"
        },
        "outputId": "6f50d93d-6e9d-40b2-f66a-2190b2b1e445"
      },
      "source": [
        "x.requires_grad_() # contagiously track gradients through forward pass"
      ],
      "execution_count": null,
      "outputs": [
        {
          "output_type": "execute_result",
          "data": {
            "text/plain": [
              "tensor(5., requires_grad=True)"
            ]
          },
          "metadata": {
            "tags": []
          },
          "execution_count": 74
        }
      ]
    },
    {
      "cell_type": "code",
      "metadata": {
        "id": "zper8WoVcxbR"
      },
      "source": [
        "y = x**2"
      ],
      "execution_count": null,
      "outputs": []
    },
    {
      "cell_type": "code",
      "metadata": {
        "id": "1Pbdg7zVcxbS"
      },
      "source": [
        "y.backward() # use autodiff"
      ],
      "execution_count": null,
      "outputs": []
    },
    {
      "cell_type": "code",
      "metadata": {
        "id": "UbV3BecacxbT",
        "colab": {
          "base_uri": "https://localhost:8080/"
        },
        "outputId": "9d3f5270-a22c-40cc-dede-e51d75209c6a"
      },
      "source": [
        "x.grad"
      ],
      "execution_count": null,
      "outputs": [
        {
          "output_type": "execute_result",
          "data": {
            "text/plain": [
              "tensor(10.)"
            ]
          },
          "metadata": {
            "tags": []
          },
          "execution_count": 77
        }
      ]
    },
    {
      "cell_type": "markdown",
      "metadata": {
        "id": "dyB3FghkcxbG"
      },
      "source": [
        "### Autodiff with TensorFlow"
      ]
    },
    {
      "cell_type": "code",
      "metadata": {
        "id": "4D12um9kcxbH"
      },
      "source": [
        "import tensorflow as tf"
      ],
      "execution_count": null,
      "outputs": []
    },
    {
      "cell_type": "code",
      "metadata": {
        "id": "f7mQuelZcxbJ"
      },
      "source": [
        "x = tf.Variable(5.0)"
      ],
      "execution_count": null,
      "outputs": []
    },
    {
      "cell_type": "code",
      "metadata": {
        "id": "M-WeFuBfcxbK"
      },
      "source": [
        "with tf.GradientTape() as t:\n",
        "    t.watch(x) # track forward pass\n",
        "    y = x**2"
      ],
      "execution_count": null,
      "outputs": []
    },
    {
      "cell_type": "code",
      "metadata": {
        "id": "Txjp5NBNcxbL",
        "colab": {
          "base_uri": "https://localhost:8080/"
        },
        "outputId": "00862329-4eae-4129-f6e7-971c718039f5"
      },
      "source": [
        "t.gradient(y, x) # use autodiff"
      ],
      "execution_count": null,
      "outputs": [
        {
          "output_type": "execute_result",
          "data": {
            "text/plain": [
              "<tf.Tensor: shape=(), dtype=float32, numpy=10.0>"
            ]
          },
          "metadata": {
            "tags": []
          },
          "execution_count": 81
        }
      ]
    },
    {
      "cell_type": "markdown",
      "metadata": {
        "id": "dS--vwVWzaDD"
      },
      "source": [
        "**Return to slides here.**"
      ]
    },
    {
      "cell_type": "markdown",
      "metadata": {
        "id": "l599s7vacxbV"
      },
      "source": [
        "As usual, PyTorch feels more intuitive and pythonic than TensorFlow. See the standalone [*Regression in PyTorch*](https://github.com/jonkrohn/ML-foundations/blob/master/notebooks/regression-in-pytorch.ipynb) notebook for an example of autodiff paired with gradient descent in order to fit a simple regression line."
      ]
    }
  ]
}